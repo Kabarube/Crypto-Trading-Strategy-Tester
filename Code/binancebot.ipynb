{
 "cells": [
  {
   "cell_type": "markdown",
   "metadata": {},
   "source": [
    "----\n",
    "# **`B`i`N`a`N`a** - **`{Binance Trading Bot}`**\n",
    "----"
   ]
  },
  {
   "cell_type": "markdown",
   "metadata": {},
   "source": [
    "## **#1 - Import and initialization of necessary objects**\n",
    "- ### Connect to the binance API"
   ]
  },
  {
   "cell_type": "code",
   "execution_count": 1,
   "metadata": {},
   "outputs": [
    {
     "name": "stdout",
     "output_type": "stream",
     "text": [
      "\n",
      "Client: [client] successfy connected to [https://api.binance.com/api]\n",
      "Server Time: 2021-11-16 07:46:17\n",
      "API: v1\n"
     ]
    }
   ],
   "source": [
    "\"\"\" #1 - CODE >>>>>>\n",
    "\"\"\"\n",
    "import sys\n",
    "import plotly.graph_objects as go\n",
    "import pandas as pd\n",
    "from binance.client import Client\n",
    "from time import sleep\n",
    "from datetime import datetime\n",
    "\n",
    "api_key = \"GTX9gXFumeoGthX0eYY3tv3jXnt8yq6BfBkyQ2Tc2tKiqjEoGmiQrcMluw6Qa7os\"\n",
    "api_secret = \"ANnbpbGVhwYEBcTyLsbmBRj9rTyg1RwYj4NaX6RZS63DbSSiCcNRbOJdAjJaFvkZ\"\n",
    "\n",
    "# CONNECT CLIENT >>\n",
    "client = Client(api_key, api_secret, testnet=False)\n",
    "if client is not None:\n",
    "    print(f\"\\nClient: [client] successfy connected to [{client.API_URL}]\")\n",
    "    print(f\"Server Time: {datetime.fromtimestamp(int(client.get_server_time().get('serverTime')/1000))}\")\n",
    "    print(f\"API: {client.PUBLIC_API_VERSION}\")\n",
    "else:\n",
    "    print(\"Unable to connect to Binance API server\")"
   ]
  },
  {
   "cell_type": "markdown",
   "metadata": {},
   "source": [
    "----\n",
    "##  **#2 - Collect Data**\n",
    "- ### Get and structure data in Pandas DataFrame()"
   ]
  },
  {
   "cell_type": "code",
   "execution_count": 2,
   "metadata": {},
   "outputs": [
    {
     "name": "stdout",
     "output_type": "stream",
     "text": [
      "[                    ] 0% Gathering BTC...\n",
      "[======              ] 28% Gathering ETH...\n",
      "[=============       ] 61% Gathering XRP...\n",
      "[====================] 95% Dataset downloaded successfully!\n",
      "[====================] 100% DataFrame:'df' ready for deployment!"
     ]
    }
   ],
   "source": [
    "\"\"\" #2 - RUN DATA COLLECTOR >>>>>>\n",
    "\"\"\"\n",
    "#TODO lage et lite api av progressbar funksjonene\n",
    "\n",
    "coins = ['BTC', 'ETH', 'XRP']       # Specify which currency to include in data collection\n",
    "df = None                           # Initialize DataFrame variable\n",
    "# MAIN REQUEST LOOP    ---------->\n",
    "for i, coin in enumerate(coins):\n",
    "    if not i: sys.stdout.write(\"[%-20s] %d%%\" % ('='*0, 30*i))  #Progress bar\n",
    "    print(f' Gathering {coin}...')\n",
    "    start_str = 'Nov 1, 2021' #'2021-10-01' #'Oct 1, 2021' \n",
    "    end_str = 'Nov 14, 2021'#'2021-11-01' #'Nov 1, 2021'\n",
    "    klines = client.get_historical_klines(\n",
    "        symbol=f'{coin}USDT',\n",
    "        interval=client.KLINE_INTERVAL_1HOUR,\n",
    "        start_str=start_str,\n",
    "        end_str=end_str)\n",
    "    \n",
    "    # PROGRESS BAR PROGRESSING ---->\n",
    "    currentbar = (i+1)*7\n",
    "    lastbar = i*7\n",
    "    barPercent = float(currentbar/21)\n",
    "    for nbar in range(lastbar, currentbar):\n",
    "        sys.stdout.write('\\r')\n",
    "        sys.stdout.write(\"[%-20s] %d%%\" % ('='*nbar, (nbar/currentbar)*100*barPercent))\n",
    "        sys.stdout.flush()\n",
    "        sleep(0.04)\n",
    "\n",
    "    # Create column name list for corresponding data\n",
    "    cols = ['OpenTime',\n",
    "            f'{coin}/USDT_Open',\n",
    "            f'{coin}/USDT_High',\n",
    "            f'{coin}/USDT_Low',\n",
    "            f'{coin}/USDT_Close',\n",
    "            f'{coin}/USDT_Volume',\n",
    "            'CloseTime',\n",
    "            f'{coin}-QuoteAssetVolume',\n",
    "            f'{coin}-NumberOfTrades',\n",
    "            f'{coin}-TBBAV',\n",
    "            f'{coin}-TBQAV',\n",
    "            f'{coin}-ignore',]\n",
    "    coin_df = pd.DataFrame(klines,columns=cols)\n",
    "    \n",
    "    # Merge data to a single DataFrame\n",
    "    df = coin_df if df == None else pd.merge(df, coin_df, how='inner', on=['OpenTime', 'CloseTime'])\n",
    "    #df = coin_df if i <= 0 else pd.merge(df, coin_df, how='inner', on=['OpenTime', 'CloseTime'])\n",
    "\n",
    "    # Confirm download success and update progress bar\n",
    "    if i >= len(coins)-1:\n",
    "        sys.stdout.write(f\" Dataset downloaded successfully!\\n\")\n",
    "    \n",
    "    # Prevent API max request\n",
    "    sleep(1)\n",
    "\n",
    "# Convert raw timedata to datedime format\n",
    "df['OpenTime'] = [datetime.fromtimestamp(ts / 1000) for ts in df['OpenTime']]\n",
    "df['CloseTime'] = [datetime.fromtimestamp(ts / 1000) for ts in df['CloseTime']]\n",
    "for col in df.columns:\n",
    "    if not 'Time' in col:\n",
    "        df[col] = df[col].astype(float)\n",
    "\n",
    "# Progress bar >    # TODO - Animate progressbar at 100%   \n",
    "if i >= len(coins)-1:       \n",
    "    sys.stdout.write(f\"[====================] {100}% DataFrame:'df' ready for deployment!\")\n",
    "else:\n",
    "    sys.stdout.write('\\r')\n",
    "    sys.stdout.write(\"[%-20s] %d%%\" % ('='*(i+1)*7, 30*(i+1)))\n",
    "    sys.stdout.flush()\n"
   ]
  },
  {
   "cell_type": "markdown",
   "metadata": {},
   "source": [
    "----\n",
    "## **#3 - Plot Data**\n",
    "### **showChart()** - Plot dataframe with Plotly "
   ]
  },
  {
   "cell_type": "code",
   "execution_count": 4,
   "metadata": {},
   "outputs": [],
   "source": [
    "## Plot\n",
    "def showChart():\n",
    "    for coin in coins:\n",
    "        fig = go.Figure(data=[go.Candlestick(x=df['OpenTime'],\n",
    "                                            open=df[f'{coin}/USDT_Open'],\n",
    "                                            high=df[f'{coin}/USDT_High'],\n",
    "                                            low=df[f'{coin}/USDT_Low'],\n",
    "                                            close=df[f'{coin}/USDT_Close']\n",
    "                                            )])\n",
    "        fig.show()"
   ]
  },
  {
   "cell_type": "markdown",
   "metadata": {},
   "source": [
    "----\n",
    "## **#4 - Indicators**\n",
    "- ### Initialize indicators"
   ]
  },
  {
   "cell_type": "code",
   "execution_count": 5,
   "metadata": {},
   "outputs": [],
   "source": [
    "# Simple Moving Average\n",
    "def sma(data, window):\n",
    "   return(data.rolling(window=window).mean())\n",
    "\n",
    "# Bollinger Bands\n",
    "def bollinger_band(data, sma, window, nstd):\n",
    "    std = data.rolling(window = window).std()\n",
    "    upper_band = sma + std * nstd\n",
    "    lower_band = sma - std * nstd\n",
    "    \n",
    "    return upper_band, lower_band"
   ]
  },
  {
   "cell_type": "markdown",
   "metadata": {},
   "source": [
    "### Add indicators to DataFrame ->"
   ]
  },
  {
   "cell_type": "code",
   "execution_count": 5,
   "metadata": {},
   "outputs": [
    {
     "data": {
      "text/html": [
       "<div>\n",
       "<style scoped>\n",
       "    .dataframe tbody tr th:only-of-type {\n",
       "        vertical-align: middle;\n",
       "    }\n",
       "\n",
       "    .dataframe tbody tr th {\n",
       "        vertical-align: top;\n",
       "    }\n",
       "\n",
       "    .dataframe thead th {\n",
       "        text-align: right;\n",
       "    }\n",
       "</style>\n",
       "<table border=\"1\" class=\"dataframe\">\n",
       "  <thead>\n",
       "    <tr style=\"text-align: right;\">\n",
       "      <th></th>\n",
       "      <th>OpenTime</th>\n",
       "      <th>BTC/USDT_Open</th>\n",
       "      <th>BTC/USDT_High</th>\n",
       "      <th>BTC/USDT_Low</th>\n",
       "      <th>BTC/USDT_Close</th>\n",
       "      <th>BTC/USDT_Volume</th>\n",
       "      <th>CloseTime</th>\n",
       "      <th>BTC-QuoteAssetVolume</th>\n",
       "      <th>BTC-NumberOfTrades</th>\n",
       "      <th>BTC-TBBAV</th>\n",
       "      <th>...</th>\n",
       "      <th>XRP-ignore</th>\n",
       "      <th>BTC_sma</th>\n",
       "      <th>BTC_upper_band</th>\n",
       "      <th>BTC_lower_band</th>\n",
       "      <th>ETH_sma</th>\n",
       "      <th>ETH_upper_band</th>\n",
       "      <th>ETH_lower_band</th>\n",
       "      <th>XRP_sma</th>\n",
       "      <th>XRP_upper_band</th>\n",
       "      <th>XRP_lower_band</th>\n",
       "    </tr>\n",
       "  </thead>\n",
       "  <tbody>\n",
       "    <tr>\n",
       "      <th>19</th>\n",
       "      <td>2021-11-01 20:00:00</td>\n",
       "      <td>60555.01</td>\n",
       "      <td>61462.80</td>\n",
       "      <td>60322.67</td>\n",
       "      <td>61435.98</td>\n",
       "      <td>1867.86874</td>\n",
       "      <td>2021-11-01 20:59:59.999</td>\n",
       "      <td>1.137801e+08</td>\n",
       "      <td>72635.0</td>\n",
       "      <td>930.50116</td>\n",
       "      <td>...</td>\n",
       "      <td>0.0</td>\n",
       "      <td>61285.6060</td>\n",
       "      <td>63278.640853</td>\n",
       "      <td>59292.571147</td>\n",
       "      <td>4293.5490</td>\n",
       "      <td>4435.873977</td>\n",
       "      <td>4151.224023</td>\n",
       "      <td>1.094895</td>\n",
       "      <td>1.130453</td>\n",
       "      <td>1.059337</td>\n",
       "    </tr>\n",
       "    <tr>\n",
       "      <th>20</th>\n",
       "      <td>2021-11-01 21:00:00</td>\n",
       "      <td>61435.97</td>\n",
       "      <td>61454.76</td>\n",
       "      <td>60567.02</td>\n",
       "      <td>60686.13</td>\n",
       "      <td>1735.23352</td>\n",
       "      <td>2021-11-01 21:59:59.999</td>\n",
       "      <td>1.057150e+08</td>\n",
       "      <td>59809.0</td>\n",
       "      <td>823.41649</td>\n",
       "      <td>...</td>\n",
       "      <td>0.0</td>\n",
       "      <td>61292.4140</td>\n",
       "      <td>63287.999866</td>\n",
       "      <td>59296.828134</td>\n",
       "      <td>4297.3890</td>\n",
       "      <td>4447.285763</td>\n",
       "      <td>4147.492237</td>\n",
       "      <td>1.093965</td>\n",
       "      <td>1.127200</td>\n",
       "      <td>1.060730</td>\n",
       "    </tr>\n",
       "    <tr>\n",
       "      <th>21</th>\n",
       "      <td>2021-11-01 22:00:00</td>\n",
       "      <td>60687.89</td>\n",
       "      <td>60899.29</td>\n",
       "      <td>60411.00</td>\n",
       "      <td>60732.47</td>\n",
       "      <td>1048.51530</td>\n",
       "      <td>2021-11-01 22:59:59.999</td>\n",
       "      <td>6.356657e+07</td>\n",
       "      <td>47481.0</td>\n",
       "      <td>499.11167</td>\n",
       "      <td>...</td>\n",
       "      <td>0.0</td>\n",
       "      <td>61248.7840</td>\n",
       "      <td>63274.467938</td>\n",
       "      <td>59223.100062</td>\n",
       "      <td>4297.0615</td>\n",
       "      <td>4446.615731</td>\n",
       "      <td>4147.507269</td>\n",
       "      <td>1.091840</td>\n",
       "      <td>1.113438</td>\n",
       "      <td>1.070242</td>\n",
       "    </tr>\n",
       "    <tr>\n",
       "      <th>22</th>\n",
       "      <td>2021-11-01 23:00:00</td>\n",
       "      <td>60729.92</td>\n",
       "      <td>61181.39</td>\n",
       "      <td>60700.01</td>\n",
       "      <td>61085.90</td>\n",
       "      <td>1008.48167</td>\n",
       "      <td>2021-11-01 23:59:59.999</td>\n",
       "      <td>6.150786e+07</td>\n",
       "      <td>40483.0</td>\n",
       "      <td>533.23650</td>\n",
       "      <td>...</td>\n",
       "      <td>0.0</td>\n",
       "      <td>61220.6165</td>\n",
       "      <td>63275.480653</td>\n",
       "      <td>59165.752347</td>\n",
       "      <td>4297.1595</td>\n",
       "      <td>4446.699635</td>\n",
       "      <td>4147.619365</td>\n",
       "      <td>1.090940</td>\n",
       "      <td>1.108914</td>\n",
       "      <td>1.072966</td>\n",
       "    </tr>\n",
       "    <tr>\n",
       "      <th>23</th>\n",
       "      <td>2021-11-02 00:00:00</td>\n",
       "      <td>61085.91</td>\n",
       "      <td>61192.54</td>\n",
       "      <td>60883.03</td>\n",
       "      <td>60911.11</td>\n",
       "      <td>1000.83905</td>\n",
       "      <td>2021-11-02 00:59:59.999</td>\n",
       "      <td>6.113336e+07</td>\n",
       "      <td>31729.0</td>\n",
       "      <td>528.20226</td>\n",
       "      <td>...</td>\n",
       "      <td>0.0</td>\n",
       "      <td>61247.5615</td>\n",
       "      <td>63249.873088</td>\n",
       "      <td>59245.249912</td>\n",
       "      <td>4300.6485</td>\n",
       "      <td>4443.895054</td>\n",
       "      <td>4157.401946</td>\n",
       "      <td>1.091055</td>\n",
       "      <td>1.109111</td>\n",
       "      <td>1.072999</td>\n",
       "    </tr>\n",
       "  </tbody>\n",
       "</table>\n",
       "<p>5 rows × 41 columns</p>\n",
       "</div>"
      ],
      "text/plain": [
       "              OpenTime  BTC/USDT_Open  BTC/USDT_High  BTC/USDT_Low  \\\n",
       "19 2021-11-01 20:00:00       60555.01       61462.80      60322.67   \n",
       "20 2021-11-01 21:00:00       61435.97       61454.76      60567.02   \n",
       "21 2021-11-01 22:00:00       60687.89       60899.29      60411.00   \n",
       "22 2021-11-01 23:00:00       60729.92       61181.39      60700.01   \n",
       "23 2021-11-02 00:00:00       61085.91       61192.54      60883.03   \n",
       "\n",
       "    BTC/USDT_Close  BTC/USDT_Volume               CloseTime  \\\n",
       "19        61435.98       1867.86874 2021-11-01 20:59:59.999   \n",
       "20        60686.13       1735.23352 2021-11-01 21:59:59.999   \n",
       "21        60732.47       1048.51530 2021-11-01 22:59:59.999   \n",
       "22        61085.90       1008.48167 2021-11-01 23:59:59.999   \n",
       "23        60911.11       1000.83905 2021-11-02 00:59:59.999   \n",
       "\n",
       "    BTC-QuoteAssetVolume  BTC-NumberOfTrades  BTC-TBBAV  ...  XRP-ignore  \\\n",
       "19          1.137801e+08             72635.0  930.50116  ...         0.0   \n",
       "20          1.057150e+08             59809.0  823.41649  ...         0.0   \n",
       "21          6.356657e+07             47481.0  499.11167  ...         0.0   \n",
       "22          6.150786e+07             40483.0  533.23650  ...         0.0   \n",
       "23          6.113336e+07             31729.0  528.20226  ...         0.0   \n",
       "\n",
       "       BTC_sma  BTC_upper_band  BTC_lower_band    ETH_sma  ETH_upper_band  \\\n",
       "19  61285.6060    63278.640853    59292.571147  4293.5490     4435.873977   \n",
       "20  61292.4140    63287.999866    59296.828134  4297.3890     4447.285763   \n",
       "21  61248.7840    63274.467938    59223.100062  4297.0615     4446.615731   \n",
       "22  61220.6165    63275.480653    59165.752347  4297.1595     4446.699635   \n",
       "23  61247.5615    63249.873088    59245.249912  4300.6485     4443.895054   \n",
       "\n",
       "    ETH_lower_band   XRP_sma  XRP_upper_band  XRP_lower_band  \n",
       "19     4151.224023  1.094895        1.130453        1.059337  \n",
       "20     4147.492237  1.093965        1.127200        1.060730  \n",
       "21     4147.507269  1.091840        1.113438        1.070242  \n",
       "22     4147.619365  1.090940        1.108914        1.072966  \n",
       "23     4157.401946  1.091055        1.109111        1.072999  \n",
       "\n",
       "[5 rows x 41 columns]"
      ]
     },
     "execution_count": 5,
     "metadata": {},
     "output_type": "execute_result"
    }
   ],
   "source": [
    "nstd = 3\n",
    "sma(df['BTC/USDT_Open'], window=20)\n",
    "\n",
    "\n",
    "\n",
    "for coin in coins:\n",
    "    df[f'{coin}_sma'] = sma(df[f'{coin}/USDT_Open'], 20)\n",
    "    df[f'{coin}_upper_band'], df[f'{coin}_lower_band'] = bollinger_band(df[f'{coin}/USDT_Open'], df[f'{coin}_sma'], 20, nstd)\n",
    "    \n",
    "    \n",
    "df.dropna(inplace=True)\n",
    "df.head()"
   ]
  },
  {
   "cell_type": "markdown",
   "metadata": {},
   "source": [
    "----\n",
    "## **#5** - **`(CLASSES)`**\n",
    "Gets the most important data from a chosen coinpair and formats it for easy access"
   ]
  },
  {
   "cell_type": "markdown",
   "metadata": {},
   "source": [
    "### **`TradingEnv`** - Virtual trading environment for testing"
   ]
  },
  {
   "cell_type": "code",
   "execution_count": 6,
   "metadata": {},
   "outputs": [],
   "source": [
    "class TradingEnv:\n",
    "    # Initialize virtual trading account ->\n",
    "    def __init__(self, balance_amount, balance_unit, trading_fee_multiplier):\n",
    "        self.balance_amount = balance_amount                    # Account balance\n",
    "        self.balance_unit = balance_unit                        # Display currency\n",
    "        self.buys = []                                          # Buy history\n",
    "        self.sells = []                                         # Sell history\n",
    "        self.trading_fee_multiplier = trading_fee_multiplier    # Fee multiplier [VIP level 0, paying fees with 'BNB']\n",
    "        \n",
    "        \n",
    "    # Virtual BUY ->\n",
    "    def buy(self, symbol, buy_price, time):\n",
    "        self.balance_amount = (self.balance_amount / buy_price) * self.trading_fee_multiplier   # 1. Sets the balance of the bought asset based on buyprice\n",
    "        self.balance_unit = symbol                                                              # 2. The currency unit of the bougt asset \n",
    "        self.buys.append([symbol, time, buy_price])                                             # 3. Save buy action in a list\n",
    "        \n",
    "    # Virtual SELL >\n",
    "    def sell(self, sell_price, time):\n",
    "        self.balance_amount = self.balance_amount * sell_price * self.trading_fee_multiplier    # 1. Sets the account balance after sell\n",
    "        self.sells.append( [self.balance_unit, time, sell_price] )                              # 2. Save sell action in a list\n",
    "        self.balance_unit = 'USDT'                                                              # 3. Sets the balance unit to 'USDT' for account balance"
   ]
  },
  {
   "cell_type": "markdown",
   "metadata": {},
   "source": [
    "### **`loadData()`** - Holds Volume, Price and Technical Data on demand\n"
   ]
  },
  {
   "cell_type": "code",
   "execution_count": 15,
   "metadata": {},
   "outputs": [],
   "source": [
    "class loadData:\n",
    "    \"\"\" Holds the Volume, Price, and Technical Data for the\n",
    "        chosen indicators in a DataFrame\n",
    "\n",
    "        Args:\n",
    "            client (object): Binance API client\n",
    "            pair (str): e.g 'BTCUSDT'\n",
    "            interval (str): e.g '1m'\n",
    "            start_str (str): Time in milliseconds/1000 .. not done <\n",
    "            end_str (str): optional: end time of datasampling in millisec\n",
    "            indicators (bool, [optional]): returns DataFrame of technicals if True. Defaults to False.\n",
    "    \"\"\"\n",
    "    def __init__(self, client, pair, interval, start_str, end_str, indicators=False):\n",
    "        client = self.client\n",
    "        self.pair = pair\n",
    "        self.start_str = start_str\n",
    "        self.end_str = end_str\n",
    "        self.indicators = indicators if indicators else False\n",
    "        \n",
    "    def priceFrame(self): #pair, interval, start_str, end_str):\n",
    "        \"\"\"Generates a simple DataFrame of the main price data\n",
    "\n",
    "            Args:\n",
    "                pair ([type]): [description]\n",
    "                interval ([type]): [description]\n",
    "                start_str ([type]): [description]\n",
    "                end_str ([type]): [description]\n",
    "        \"\"\"\n",
    "        print(self.pair, self.interval, self.start_str, self.end_str, \"\\n\")\n",
    "        print(self.client.get_symbol_ticker(self.pair))\n",
    "        return None\n",
    "        \n"
   ]
  },
  {
   "cell_type": "markdown",
   "metadata": {},
   "source": [
    "----\n",
    "## **#6 - Backtesting with virtual trading environement**"
   ]
  },
  {
   "cell_type": "code",
   "execution_count": 18,
   "metadata": {},
   "outputs": [
    {
     "data": {
      "application/vnd.plotly.v1+json": {
       "config": {
        "plotlyServerURL": "https://plot.ly"
       },
       "data": [
        {
         "close": [
          61560.49,
          61293.26,
          60547,
          59922.98,
          60501.62,
          60618,
          60741.76,
          62178.31,
          61902.42,
          61950.45,
          62249.92,
          61807.99,
          61842.67,
          61945.09,
          61454.25,
          61550.89,
          61034.83,
          60765.26,
          60555.01,
          61435.98,
          60686.13,
          60732.47,
          61085.9,
          60911.11,
          60943.92,
          61320,
          60909.42,
          61074.5,
          61412.01,
          61754.24,
          61769.71,
          61521.13,
          61565.34,
          63050.62,
          63198.93,
          62913.3,
          62998.32,
          63393.54,
          63335.29,
          64018.73,
          63656.06,
          63448.67,
          63250.01,
          63576.05,
          63096.48,
          62999.95,
          62928.65,
          63219.99,
          63489.02,
          63129.81,
          63159.88,
          63210.41,
          62762.4,
          63038.04,
          62815.76,
          63394.63,
          62970.23,
          63284.12,
          63116.8,
          63108.43,
          62470.01,
          61821.07,
          61961.08,
          62190,
          62135.76,
          62471,
          63149.04,
          62800,
          62724,
          63107.71,
          62794.49,
          62896.48,
          62829.56,
          62331.96,
          62541,
          62420,
          62674.95,
          62376.82,
          62445.41,
          61853.79,
          61610.77,
          61789.8,
          61894.81,
          61447.22,
          61865.06,
          62092.01,
          61757.95,
          61035.01,
          61166.04,
          60864.78,
          60739.25,
          61249.34,
          61319.54,
          61347.93,
          61147,
          61395.01,
          60873.95,
          61784.72,
          61624.99,
          62203.8,
          62088.02,
          62182.04,
          62177.3,
          62128.71,
          62189.83,
          61698.19,
          61570.62,
          61259.63,
          61500.01,
          61773.25,
          61256.39,
          60782.17,
          60890,
          60971.37,
          61195.59,
          61090.69,
          60930.26,
          61076.55,
          61057.71,
          60937.12,
          61171.04,
          61171.04,
          60969.74,
          61109.52,
          61193.63,
          61418.25,
          61249.99,
          60790.88,
          61014.07,
          60922.15,
          60489.56,
          60327.47,
          60264.34,
          60547.5,
          60600.31,
          60648.59,
          60625.06,
          60698.46,
          60757.61,
          61175.4,
          61146.27,
          61386.26,
          61361.41,
          61470.61,
          61920.19,
          61849.99,
          61912.99,
          62133.04,
          62182.54,
          61941.28,
          61814.88,
          61759.87,
          61685.41,
          61970.75,
          61923.83,
          61911.4,
          61768.14,
          61842.94,
          61781.47,
          61938.01,
          62042.04,
          62445.01,
          62435.84,
          62265.57,
          62653.99,
          62834.63,
          62824.98,
          63273.59,
          64999.68,
          65077.27,
          65078.12,
          65199.99,
          65168.2,
          65451.74,
          65928.8,
          65941.89,
          66232,
          66069.7,
          66021.54,
          66037.21,
          65794.58,
          65377.49,
          65326.06,
          66379.41,
          65932.46,
          65969.04,
          65913,
          65835.01,
          66036.89,
          66121.63,
          66510.88,
          67525.83,
          67603.3,
          67508.4,
          67613.98,
          68490,
          68249.32,
          68097.41,
          68018.47,
          67852.56,
          68068.24,
          68219.99,
          67823.45,
          67594.98,
          67550.01,
          68080.37,
          67333.53,
          66771.1,
          66693,
          66810.21,
          66520.37,
          66800.21,
          67348.99,
          67721,
          67292.72,
          66947.66,
          66996.82,
          67018.36,
          66815.32,
          66487.23,
          66641.17,
          66342.74,
          66518.23,
          66426.43,
          66612.15,
          66684.98,
          66779.7,
          66546.8,
          66396.98,
          67983.45,
          68382.69,
          68348.63,
          68524.69,
          68633.69,
          67792.81,
          66650.99,
          65840.26,
          64251.23,
          65126.15,
          64882.43,
          64941.3,
          64739.9,
          64521.98,
          64746.18,
          64608.24,
          64677.77,
          64819.72,
          65228.4,
          65365.58,
          65378,
          65242.67,
          65255.88,
          64998.06,
          64747.73,
          65150.19,
          64799.6,
          65034.3,
          64925.32,
          64746,
          65119.99,
          64796.1,
          65036.07,
          65160.28,
          64774.26,
          64808.14,
          65103.56,
          65010.42,
          64826.63,
          64978.99,
          64676.39,
          64502.41,
          64488.12,
          64890.64,
          63801.48,
          63651.68,
          63753.19,
          63814.04,
          63982.09,
          63467.18,
          63155.94,
          63082.75,
          63578,
          63872.36,
          63845.01,
          64119.43,
          64070.56,
          63914.33,
          64122.23,
          64348.69,
          63846.58,
          63702.78,
          63773.94,
          63704.67,
          63597.54,
          63844.16,
          64029.99,
          63807.29,
          63453.16,
          63707.03,
          63554.23,
          63530.26,
          63594.82,
          64725.78,
          64688.99,
          64616.64,
          64659.02,
          64134.69,
          63941.65,
          64359.29,
          64365.82,
          64275.24,
          64380,
          64974.06
         ],
         "high": [
          61660.27,
          61735.3,
          61407.64,
          60623,
          60736.98,
          60857.94,
          60933.95,
          62298,
          62437.74,
          62205.66,
          62273.27,
          62436.87,
          62190,
          62047.85,
          61997.12,
          61611.28,
          61571.46,
          61083.62,
          60820,
          61462.8,
          61454.76,
          60899.29,
          61181.39,
          61192.54,
          61399,
          61566,
          61425.47,
          61139,
          61533,
          61788.69,
          61824.66,
          61800,
          61829.94,
          63178,
          63597.8,
          63350,
          63300.01,
          63474,
          63902,
          64270,
          64267.36,
          63759.97,
          63514.17,
          63670.97,
          63610,
          63187.01,
          63159,
          63242.47,
          63500,
          63490.72,
          63216.93,
          63240,
          63210.4,
          63198.19,
          63118.57,
          63500,
          63399.71,
          63350.01,
          63399,
          63200,
          63133.99,
          62677.81,
          62098.78,
          62222,
          62565.23,
          62669.49,
          63199.89,
          63333,
          63032.43,
          63200,
          63182.59,
          63091.88,
          63086.31,
          62845.2,
          62558.89,
          62588.52,
          62826.95,
          62756.62,
          62645.63,
          62600,
          62325.75,
          61835.7,
          61962.02,
          61966.29,
          61875.43,
          62194,
          62370,
          61821.19,
          61306.6,
          61258.12,
          61376.02,
          61285.71,
          61530.27,
          61448.99,
          61380,
          61499.98,
          61489.99,
          61810.51,
          61930.85,
          62332.04,
          62375,
          62195.24,
          62595.72,
          62487.94,
          62210.6,
          62229.45,
          61791.25,
          61839.95,
          61553.76,
          61928.37,
          61850,
          61325,
          61022.22,
          61100,
          61431.29,
          61195.59,
          61095.82,
          61200,
          61324.1,
          61093.49,
          61277.77,
          61277.77,
          61220.89,
          61150,
          61280.23,
          61479,
          61560.49,
          61272.3,
          61350,
          61160.05,
          61007.99,
          60622.14,
          60619.75,
          60680,
          60744.66,
          60756.84,
          60839.8,
          60876.78,
          60842.82,
          61186.08,
          61417.12,
          61480.08,
          61489.63,
          61470.93,
          61920.2,
          62328.06,
          62135.49,
          62185.12,
          62292.31,
          62193.23,
          62070.57,
          61930,
          61834.1,
          62026.64,
          62350,
          61950,
          62133.24,
          62137,
          62050,
          61989.48,
          62268.66,
          62478,
          62499.44,
          62497,
          62800,
          63099,
          63029.08,
          63286.35,
          65040.96,
          65639.08,
          65329.11,
          65235.28,
          65357,
          65615.41,
          66150.02,
          66342.58,
          66287.75,
          66423,
          66151.73,
          66084.32,
          66160,
          65949.98,
          65549,
          66524.43,
          66538.53,
          66198.99,
          66000,
          66095.19,
          66168,
          66429.84,
          66550,
          67789,
          67732.33,
          67639.8,
          67815,
          68524.25,
          68520,
          68366.17,
          68184.09,
          68150,
          68108.99,
          68230.83,
          68238,
          67896.84,
          67731.86,
          68116.56,
          68080.38,
          67526.98,
          67006.61,
          66912.31,
          67238.39,
          66810.74,
          67349,
          67800.27,
          67738.09,
          67436.94,
          67378.7,
          67300,
          67185.62,
          66815.32,
          66672.78,
          66653.54,
          66625.99,
          66750.11,
          66857.03,
          66846.9,
          67099,
          66904.6,
          66961.32,
          68000,
          69000,
          68500,
          68775.07,
          68775.51,
          68646.65,
          68013.64,
          67047.27,
          66200.01,
          65284.58,
          65130.65,
          65006.31,
          65062.79,
          64739.91,
          64896.55,
          64796,
          64900,
          64988.75,
          65414.94,
          65450,
          65600.07,
          65400,
          65349.57,
          65342.15,
          65150,
          65474.47,
          65350.22,
          65230.41,
          65249,
          65018.15,
          65219.59,
          65215.27,
          65091.75,
          65309.13,
          65183.53,
          64946.78,
          65365.97,
          65450.7,
          65061.6,
          65075.79,
          65018.54,
          64840.44,
          64637.15,
          64957.97,
          64897.13,
          64212.98,
          64039.05,
          64199,
          64071.43,
          64200,
          63568,
          63361.12,
          63614.39,
          64089.99,
          63906.01,
          64890,
          64502.79,
          64195.98,
          64367.72,
          64455,
          64412.94,
          64017.32,
          63880,
          63922.99,
          63846.93,
          63866.76,
          64123,
          64081.5,
          63883.53,
          63737.81,
          63807.91,
          63811.71,
          63750,
          64843,
          64790.5,
          65000,
          64692.16,
          64689.82,
          64200,
          64438.81,
          64391.43,
          64418.97,
          64550.5,
          65320
         ],
         "low": [
          61115.33,
          61193.1,
          60000,
          59700,
          59405,
          60442,
          60284,
          60732.07,
          61630.18,
          61817.12,
          61885.89,
          61770,
          61600,
          61700,
          61300.01,
          61398.14,
          61021,
          60720,
          60511.01,
          60322.67,
          60567.02,
          60411,
          60700.01,
          60883.03,
          60624.68,
          60742.83,
          60835.5,
          60770.82,
          61053.21,
          61276.18,
          61544.88,
          61485,
          61356.45,
          61494.1,
          62990.01,
          62901.22,
          62881.46,
          62998.31,
          62998,
          63312.68,
          63600,
          63402,
          63195.61,
          63223.88,
          63040.02,
          62901,
          62901.02,
          62584.5,
          62857.02,
          62987.63,
          62722.4,
          62928.88,
          62728,
          62746.65,
          62801.57,
          62770.67,
          62894.35,
          62872.94,
          63090.68,
          62910.21,
          62226.19,
          61645,
          61579.57,
          61713.62,
          61969.69,
          62063,
          60382.76,
          62792.93,
          62700,
          62714.11,
          62555,
          62767,
          62723.52,
          62254.01,
          62178,
          62260,
          62402.61,
          62324.98,
          62300,
          61819.51,
          61565,
          61245.57,
          61610.12,
          61230.66,
          61313.39,
          61544.29,
          61646.52,
          60775,
          60819.14,
          60738.65,
          60723,
          60677.01,
          61062.66,
          61135.55,
          61000,
          61083.86,
          60820,
          60846.79,
          61620.45,
          61624.99,
          62064.42,
          61880.88,
          62136.47,
          62101.04,
          61951.27,
          61511.33,
          61445.55,
          61191.28,
          61153.52,
          61436.68,
          61199.73,
          60750,
          60730,
          60773.23,
          60906.38,
          60814.78,
          60721,
          60900,
          60991.27,
          60800.57,
          60777,
          60950.07,
          60865,
          60926.87,
          60972.78,
          61193.63,
          61147.12,
          60511.01,
          60720,
          60846.44,
          60445.78,
          60081.21,
          60050,
          60241.65,
          60316.01,
          60528.6,
          60400,
          60596.26,
          60670.71,
          60741.25,
          61099.01,
          61138.89,
          61305.54,
          61281,
          61322.78,
          61782.05,
          61743.44,
          61904.89,
          62107.98,
          61911.37,
          61769.23,
          61700.02,
          61619,
          61468.48,
          61792.2,
          61576.35,
          61650,
          61700.01,
          61777,
          61700.77,
          61931.68,
          62023.99,
          62080.47,
          62120.68,
          62159.29,
          62643.86,
          62764.02,
          62742.43,
          63273.58,
          64937.32,
          65042.75,
          64966.27,
          65050.77,
          65093.01,
          65367.88,
          65588.6,
          65600.01,
          65994.25,
          65702.43,
          65750,
          65725,
          65288,
          65122,
          65261.13,
          65858.17,
          65805.11,
          65743.17,
          65821.01,
          65500,
          65939.85,
          66064.06,
          66351.65,
          67015.2,
          67310.28,
          67271.69,
          67511.55,
          68125,
          67782.18,
          67653.89,
          67627.14,
          67686.58,
          67850,
          67697.11,
          67300,
          67241.9,
          67533.2,
          67132.45,
          66610,
          66422.4,
          66222.4,
          66503.58,
          66307.23,
          66653,
          67251.83,
          66926.41,
          66736.23,
          66763.56,
          66853.27,
          66787.7,
          66355.05,
          66255.55,
          66286.7,
          66233,
          66299.29,
          66357,
          66546.94,
          66645.18,
          66535.01,
          66250,
          65888,
          67879.79,
          68163.65,
          68343.81,
          68451.19,
          67553.99,
          66542.85,
          64885.98,
          62822.9,
          63800,
          64255.81,
          64157.35,
          64278.54,
          64100,
          64300,
          64383.46,
          64550,
          64492.35,
          64782.57,
          64550.55,
          65016.94,
          65079.8,
          64939.99,
          64651.92,
          64630.9,
          64402.49,
          64672.96,
          64715.86,
          64860,
          64573.99,
          64722.22,
          64628.39,
          64722.18,
          64863.52,
          64774.04,
          64605.51,
          64052,
          64920.08,
          64696.5,
          64698.52,
          64664.21,
          64444,
          64202.68,
          64200,
          63622.28,
          63522.28,
          63501,
          63333.33,
          63244.24,
          63453.38,
          62900,
          62278,
          62909.31,
          63520.79,
          63539.41,
          63833.49,
          63948.74,
          63704.8,
          63822.11,
          64115.41,
          63806.82,
          63576.1,
          63600,
          63555,
          63510,
          63581.34,
          63700.92,
          63738.18,
          63360.22,
          63373.34,
          63502.26,
          63427.86,
          63462,
          63543.23,
          64523.76,
          64600,
          64500,
          63920,
          63829.01,
          63918.89,
          64113,
          64116,
          64220.7,
          64380
         ],
         "open": [
          61299.81,
          61560.49,
          61293.27,
          60547.01,
          59915.12,
          60501.62,
          60618,
          60741.76,
          62176.29,
          61902.42,
          61950.45,
          62249.92,
          61808,
          61842.66,
          61945.09,
          61454.24,
          61550.88,
          61034.82,
          60765.26,
          60555.01,
          61435.97,
          60687.89,
          60729.92,
          61085.91,
          60911.12,
          60943.91,
          61320,
          60909.42,
          61074.5,
          61412.01,
          61754.25,
          61768.29,
          61521.13,
          61565.34,
          63050.63,
          63198.94,
          62913.3,
          62998.31,
          63393.55,
          63335.29,
          64018.74,
          63656.07,
          63448.66,
          63250.01,
          63576.05,
          63096.47,
          62999.95,
          62928.65,
          63220.57,
          63489.02,
          63129.8,
          63159.88,
          63210.4,
          62762.4,
          63038.04,
          62815.77,
          63394.62,
          62970.23,
          63284.12,
          63116.8,
          63107.29,
          62470.01,
          61821.07,
          61961.07,
          62189.99,
          62136.52,
          62471.91,
          63149.05,
          62799.99,
          62719.88,
          63110.55,
          62794.49,
          62896.49,
          62829.56,
          62331.95,
          62540.99,
          62420,
          62674.95,
          62376.82,
          62445.42,
          61853.78,
          61610.76,
          61789.81,
          61894.81,
          61447.23,
          61865.06,
          62092,
          61757.96,
          61035.01,
          61166.03,
          60864.78,
          60732.34,
          61249.33,
          61319.54,
          61347.94,
          61139.33,
          61395.01,
          60873.96,
          61784,
          61624.99,
          62203.79,
          62088.02,
          62182.04,
          62177.29,
          62128.7,
          62189.83,
          61698.64,
          61573,
          61259.63,
          61500.01,
          61773.25,
          61256.39,
          60782.99,
          60890,
          60971.37,
          61195.58,
          61090.69,
          60930.27,
          61076.54,
          61057.71,
          60940.18,
          61171.03,
          61171.02,
          60969.74,
          61109.51,
          61193.64,
          61418.26,
          61250,
          60790.87,
          61014.07,
          60922.16,
          60489.56,
          60327.47,
          60264.34,
          60547.49,
          60600.31,
          60648.58,
          60625.06,
          60698.47,
          60757.62,
          61175.41,
          61146.27,
          61386.25,
          61361.41,
          61470.62,
          61920.19,
          61849.99,
          61912.99,
          62133.03,
          62182.54,
          61941.29,
          61814.87,
          61759.87,
          61685.41,
          61970.75,
          61923.82,
          61911.41,
          61768.15,
          61842.94,
          61781.47,
          61938,
          62042.05,
          62445.01,
          62435.84,
          62265.57,
          62654,
          62834.62,
          62824.99,
          63273.58,
          64999.68,
          65077.27,
          65078.11,
          65200,
          65168.2,
          65451.73,
          65928.81,
          65941.88,
          66232,
          66069.69,
          66021.55,
          66037.21,
          65794.58,
          65377.49,
          65328.01,
          66382.01,
          65932.45,
          65969.05,
          65913,
          65835.01,
          66036.88,
          66121.62,
          66510.87,
          67525.82,
          67603.3,
          67504.6,
          67613.98,
          68490,
          68249.31,
          68097.42,
          68018.48,
          67852.56,
          68068.24,
          68219.98,
          67823.45,
          67594.98,
          67550.01,
          68080.38,
          67343.6,
          66771.11,
          66692.99,
          66810.22,
          66520.38,
          66800.21,
          67349,
          67720.99,
          67292.72,
          66947.67,
          66996.81,
          67018.37,
          66815.32,
          66487.23,
          66641.16,
          66342.74,
          66518.23,
          66426.42,
          66612.15,
          66684.98,
          66779.69,
          66546.81,
          66396.98,
          67983.45,
          68382.7,
          68349.42,
          68524.7,
          68635.12,
          67790.44,
          66650.98,
          65840.26,
          64251.19,
          65126.14,
          64882.42,
          64941.29,
          64739.9,
          64521.98,
          64746.17,
          64608.23,
          64677.76,
          64819.73,
          65228.41,
          65365.58,
          65378,
          65242.66,
          65255.87,
          64998.05,
          64747.72,
          65156.67,
          64799.59,
          65034.29,
          64925.32,
          64746,
          65119.99,
          64796.1,
          65036.07,
          65160.27,
          64774.25,
          64808.14,
          65103.56,
          65010.42,
          64826.63,
          64979,
          64676.39,
          64502.43,
          64488.11,
          64890.63,
          63801.48,
          63651.67,
          63753.19,
          63814.03,
          63980.26,
          63467.18,
          63155.95,
          63082.75,
          63578,
          63872.36,
          63845,
          64119.43,
          64070.56,
          63914.34,
          64122.22,
          64348.7,
          63846.57,
          63702.78,
          63773.93,
          63704.66,
          63597.54,
          63844.16,
          64029.99,
          63807.28,
          63453.17,
          63707.03,
          63554.23,
          63530.26,
          63594.83,
          64725.77,
          64689,
          64616.65,
          64659.03,
          64134.68,
          63941.65,
          64359.3,
          64365.82,
          64275.24,
          64380.01
         ],
         "type": "candlestick",
         "x": [
          "2021-11-01T01:00:00",
          "2021-11-01T02:00:00",
          "2021-11-01T03:00:00",
          "2021-11-01T04:00:00",
          "2021-11-01T05:00:00",
          "2021-11-01T06:00:00",
          "2021-11-01T07:00:00",
          "2021-11-01T08:00:00",
          "2021-11-01T09:00:00",
          "2021-11-01T10:00:00",
          "2021-11-01T11:00:00",
          "2021-11-01T12:00:00",
          "2021-11-01T13:00:00",
          "2021-11-01T14:00:00",
          "2021-11-01T15:00:00",
          "2021-11-01T16:00:00",
          "2021-11-01T17:00:00",
          "2021-11-01T18:00:00",
          "2021-11-01T19:00:00",
          "2021-11-01T20:00:00",
          "2021-11-01T21:00:00",
          "2021-11-01T22:00:00",
          "2021-11-01T23:00:00",
          "2021-11-02T00:00:00",
          "2021-11-02T01:00:00",
          "2021-11-02T02:00:00",
          "2021-11-02T03:00:00",
          "2021-11-02T04:00:00",
          "2021-11-02T05:00:00",
          "2021-11-02T06:00:00",
          "2021-11-02T07:00:00",
          "2021-11-02T08:00:00",
          "2021-11-02T09:00:00",
          "2021-11-02T10:00:00",
          "2021-11-02T11:00:00",
          "2021-11-02T12:00:00",
          "2021-11-02T13:00:00",
          "2021-11-02T14:00:00",
          "2021-11-02T15:00:00",
          "2021-11-02T16:00:00",
          "2021-11-02T17:00:00",
          "2021-11-02T18:00:00",
          "2021-11-02T19:00:00",
          "2021-11-02T20:00:00",
          "2021-11-02T21:00:00",
          "2021-11-02T22:00:00",
          "2021-11-02T23:00:00",
          "2021-11-03T00:00:00",
          "2021-11-03T01:00:00",
          "2021-11-03T02:00:00",
          "2021-11-03T03:00:00",
          "2021-11-03T04:00:00",
          "2021-11-03T05:00:00",
          "2021-11-03T06:00:00",
          "2021-11-03T07:00:00",
          "2021-11-03T08:00:00",
          "2021-11-03T09:00:00",
          "2021-11-03T10:00:00",
          "2021-11-03T11:00:00",
          "2021-11-03T12:00:00",
          "2021-11-03T13:00:00",
          "2021-11-03T14:00:00",
          "2021-11-03T15:00:00",
          "2021-11-03T16:00:00",
          "2021-11-03T17:00:00",
          "2021-11-03T18:00:00",
          "2021-11-03T19:00:00",
          "2021-11-03T20:00:00",
          "2021-11-03T21:00:00",
          "2021-11-03T22:00:00",
          "2021-11-03T23:00:00",
          "2021-11-04T00:00:00",
          "2021-11-04T01:00:00",
          "2021-11-04T02:00:00",
          "2021-11-04T03:00:00",
          "2021-11-04T04:00:00",
          "2021-11-04T05:00:00",
          "2021-11-04T06:00:00",
          "2021-11-04T07:00:00",
          "2021-11-04T08:00:00",
          "2021-11-04T09:00:00",
          "2021-11-04T10:00:00",
          "2021-11-04T11:00:00",
          "2021-11-04T12:00:00",
          "2021-11-04T13:00:00",
          "2021-11-04T14:00:00",
          "2021-11-04T15:00:00",
          "2021-11-04T16:00:00",
          "2021-11-04T17:00:00",
          "2021-11-04T18:00:00",
          "2021-11-04T19:00:00",
          "2021-11-04T20:00:00",
          "2021-11-04T21:00:00",
          "2021-11-04T22:00:00",
          "2021-11-04T23:00:00",
          "2021-11-05T00:00:00",
          "2021-11-05T01:00:00",
          "2021-11-05T02:00:00",
          "2021-11-05T03:00:00",
          "2021-11-05T04:00:00",
          "2021-11-05T05:00:00",
          "2021-11-05T06:00:00",
          "2021-11-05T07:00:00",
          "2021-11-05T08:00:00",
          "2021-11-05T09:00:00",
          "2021-11-05T10:00:00",
          "2021-11-05T11:00:00",
          "2021-11-05T12:00:00",
          "2021-11-05T13:00:00",
          "2021-11-05T14:00:00",
          "2021-11-05T15:00:00",
          "2021-11-05T16:00:00",
          "2021-11-05T17:00:00",
          "2021-11-05T18:00:00",
          "2021-11-05T19:00:00",
          "2021-11-05T20:00:00",
          "2021-11-05T21:00:00",
          "2021-11-05T22:00:00",
          "2021-11-05T23:00:00",
          "2021-11-06T00:00:00",
          "2021-11-06T01:00:00",
          "2021-11-06T02:00:00",
          "2021-11-06T03:00:00",
          "2021-11-06T04:00:00",
          "2021-11-06T05:00:00",
          "2021-11-06T06:00:00",
          "2021-11-06T07:00:00",
          "2021-11-06T08:00:00",
          "2021-11-06T09:00:00",
          "2021-11-06T10:00:00",
          "2021-11-06T11:00:00",
          "2021-11-06T12:00:00",
          "2021-11-06T13:00:00",
          "2021-11-06T14:00:00",
          "2021-11-06T15:00:00",
          "2021-11-06T16:00:00",
          "2021-11-06T17:00:00",
          "2021-11-06T18:00:00",
          "2021-11-06T19:00:00",
          "2021-11-06T20:00:00",
          "2021-11-06T21:00:00",
          "2021-11-06T22:00:00",
          "2021-11-06T23:00:00",
          "2021-11-07T00:00:00",
          "2021-11-07T01:00:00",
          "2021-11-07T02:00:00",
          "2021-11-07T03:00:00",
          "2021-11-07T04:00:00",
          "2021-11-07T05:00:00",
          "2021-11-07T06:00:00",
          "2021-11-07T07:00:00",
          "2021-11-07T08:00:00",
          "2021-11-07T09:00:00",
          "2021-11-07T10:00:00",
          "2021-11-07T11:00:00",
          "2021-11-07T12:00:00",
          "2021-11-07T13:00:00",
          "2021-11-07T14:00:00",
          "2021-11-07T15:00:00",
          "2021-11-07T16:00:00",
          "2021-11-07T17:00:00",
          "2021-11-07T18:00:00",
          "2021-11-07T19:00:00",
          "2021-11-07T20:00:00",
          "2021-11-07T21:00:00",
          "2021-11-07T22:00:00",
          "2021-11-07T23:00:00",
          "2021-11-08T00:00:00",
          "2021-11-08T01:00:00",
          "2021-11-08T02:00:00",
          "2021-11-08T03:00:00",
          "2021-11-08T04:00:00",
          "2021-11-08T05:00:00",
          "2021-11-08T06:00:00",
          "2021-11-08T07:00:00",
          "2021-11-08T08:00:00",
          "2021-11-08T09:00:00",
          "2021-11-08T10:00:00",
          "2021-11-08T11:00:00",
          "2021-11-08T12:00:00",
          "2021-11-08T13:00:00",
          "2021-11-08T14:00:00",
          "2021-11-08T15:00:00",
          "2021-11-08T16:00:00",
          "2021-11-08T17:00:00",
          "2021-11-08T18:00:00",
          "2021-11-08T19:00:00",
          "2021-11-08T20:00:00",
          "2021-11-08T21:00:00",
          "2021-11-08T22:00:00",
          "2021-11-08T23:00:00",
          "2021-11-09T00:00:00",
          "2021-11-09T01:00:00",
          "2021-11-09T02:00:00",
          "2021-11-09T03:00:00",
          "2021-11-09T04:00:00",
          "2021-11-09T05:00:00",
          "2021-11-09T06:00:00",
          "2021-11-09T07:00:00",
          "2021-11-09T08:00:00",
          "2021-11-09T09:00:00",
          "2021-11-09T10:00:00",
          "2021-11-09T11:00:00",
          "2021-11-09T12:00:00",
          "2021-11-09T13:00:00",
          "2021-11-09T14:00:00",
          "2021-11-09T15:00:00",
          "2021-11-09T16:00:00",
          "2021-11-09T17:00:00",
          "2021-11-09T18:00:00",
          "2021-11-09T19:00:00",
          "2021-11-09T20:00:00",
          "2021-11-09T21:00:00",
          "2021-11-09T22:00:00",
          "2021-11-09T23:00:00",
          "2021-11-10T00:00:00",
          "2021-11-10T01:00:00",
          "2021-11-10T02:00:00",
          "2021-11-10T03:00:00",
          "2021-11-10T04:00:00",
          "2021-11-10T05:00:00",
          "2021-11-10T06:00:00",
          "2021-11-10T07:00:00",
          "2021-11-10T08:00:00",
          "2021-11-10T09:00:00",
          "2021-11-10T10:00:00",
          "2021-11-10T11:00:00",
          "2021-11-10T12:00:00",
          "2021-11-10T13:00:00",
          "2021-11-10T14:00:00",
          "2021-11-10T15:00:00",
          "2021-11-10T16:00:00",
          "2021-11-10T17:00:00",
          "2021-11-10T18:00:00",
          "2021-11-10T19:00:00",
          "2021-11-10T20:00:00",
          "2021-11-10T21:00:00",
          "2021-11-10T22:00:00",
          "2021-11-10T23:00:00",
          "2021-11-11T00:00:00",
          "2021-11-11T01:00:00",
          "2021-11-11T02:00:00",
          "2021-11-11T03:00:00",
          "2021-11-11T04:00:00",
          "2021-11-11T05:00:00",
          "2021-11-11T06:00:00",
          "2021-11-11T07:00:00",
          "2021-11-11T08:00:00",
          "2021-11-11T09:00:00",
          "2021-11-11T10:00:00",
          "2021-11-11T11:00:00",
          "2021-11-11T12:00:00",
          "2021-11-11T13:00:00",
          "2021-11-11T14:00:00",
          "2021-11-11T15:00:00",
          "2021-11-11T16:00:00",
          "2021-11-11T17:00:00",
          "2021-11-11T18:00:00",
          "2021-11-11T19:00:00",
          "2021-11-11T20:00:00",
          "2021-11-11T21:00:00",
          "2021-11-11T22:00:00",
          "2021-11-11T23:00:00",
          "2021-11-12T00:00:00",
          "2021-11-12T01:00:00",
          "2021-11-12T02:00:00",
          "2021-11-12T03:00:00",
          "2021-11-12T04:00:00",
          "2021-11-12T05:00:00",
          "2021-11-12T06:00:00",
          "2021-11-12T07:00:00",
          "2021-11-12T08:00:00",
          "2021-11-12T09:00:00",
          "2021-11-12T10:00:00",
          "2021-11-12T11:00:00",
          "2021-11-12T12:00:00",
          "2021-11-12T13:00:00",
          "2021-11-12T14:00:00",
          "2021-11-12T15:00:00",
          "2021-11-12T16:00:00",
          "2021-11-12T17:00:00",
          "2021-11-12T18:00:00",
          "2021-11-12T19:00:00",
          "2021-11-12T20:00:00",
          "2021-11-12T21:00:00",
          "2021-11-12T22:00:00",
          "2021-11-12T23:00:00",
          "2021-11-13T00:00:00",
          "2021-11-13T01:00:00",
          "2021-11-13T02:00:00",
          "2021-11-13T03:00:00",
          "2021-11-13T04:00:00",
          "2021-11-13T05:00:00",
          "2021-11-13T06:00:00",
          "2021-11-13T07:00:00",
          "2021-11-13T08:00:00",
          "2021-11-13T09:00:00",
          "2021-11-13T10:00:00",
          "2021-11-13T11:00:00",
          "2021-11-13T12:00:00",
          "2021-11-13T13:00:00",
          "2021-11-13T14:00:00",
          "2021-11-13T15:00:00",
          "2021-11-13T16:00:00",
          "2021-11-13T17:00:00",
          "2021-11-13T18:00:00",
          "2021-11-13T19:00:00",
          "2021-11-13T20:00:00",
          "2021-11-13T21:00:00",
          "2021-11-13T22:00:00",
          "2021-11-13T23:00:00",
          "2021-11-14T00:00:00",
          "2021-11-14T01:00:00"
         ]
        }
       ],
       "layout": {
        "template": {
         "data": {
          "bar": [
           {
            "error_x": {
             "color": "#2a3f5f"
            },
            "error_y": {
             "color": "#2a3f5f"
            },
            "marker": {
             "line": {
              "color": "#E5ECF6",
              "width": 0.5
             },
             "pattern": {
              "fillmode": "overlay",
              "size": 10,
              "solidity": 0.2
             }
            },
            "type": "bar"
           }
          ],
          "barpolar": [
           {
            "marker": {
             "line": {
              "color": "#E5ECF6",
              "width": 0.5
             },
             "pattern": {
              "fillmode": "overlay",
              "size": 10,
              "solidity": 0.2
             }
            },
            "type": "barpolar"
           }
          ],
          "carpet": [
           {
            "aaxis": {
             "endlinecolor": "#2a3f5f",
             "gridcolor": "white",
             "linecolor": "white",
             "minorgridcolor": "white",
             "startlinecolor": "#2a3f5f"
            },
            "baxis": {
             "endlinecolor": "#2a3f5f",
             "gridcolor": "white",
             "linecolor": "white",
             "minorgridcolor": "white",
             "startlinecolor": "#2a3f5f"
            },
            "type": "carpet"
           }
          ],
          "choropleth": [
           {
            "colorbar": {
             "outlinewidth": 0,
             "ticks": ""
            },
            "type": "choropleth"
           }
          ],
          "contour": [
           {
            "colorbar": {
             "outlinewidth": 0,
             "ticks": ""
            },
            "colorscale": [
             [
              0,
              "#0d0887"
             ],
             [
              0.1111111111111111,
              "#46039f"
             ],
             [
              0.2222222222222222,
              "#7201a8"
             ],
             [
              0.3333333333333333,
              "#9c179e"
             ],
             [
              0.4444444444444444,
              "#bd3786"
             ],
             [
              0.5555555555555556,
              "#d8576b"
             ],
             [
              0.6666666666666666,
              "#ed7953"
             ],
             [
              0.7777777777777778,
              "#fb9f3a"
             ],
             [
              0.8888888888888888,
              "#fdca26"
             ],
             [
              1,
              "#f0f921"
             ]
            ],
            "type": "contour"
           }
          ],
          "contourcarpet": [
           {
            "colorbar": {
             "outlinewidth": 0,
             "ticks": ""
            },
            "type": "contourcarpet"
           }
          ],
          "heatmap": [
           {
            "colorbar": {
             "outlinewidth": 0,
             "ticks": ""
            },
            "colorscale": [
             [
              0,
              "#0d0887"
             ],
             [
              0.1111111111111111,
              "#46039f"
             ],
             [
              0.2222222222222222,
              "#7201a8"
             ],
             [
              0.3333333333333333,
              "#9c179e"
             ],
             [
              0.4444444444444444,
              "#bd3786"
             ],
             [
              0.5555555555555556,
              "#d8576b"
             ],
             [
              0.6666666666666666,
              "#ed7953"
             ],
             [
              0.7777777777777778,
              "#fb9f3a"
             ],
             [
              0.8888888888888888,
              "#fdca26"
             ],
             [
              1,
              "#f0f921"
             ]
            ],
            "type": "heatmap"
           }
          ],
          "heatmapgl": [
           {
            "colorbar": {
             "outlinewidth": 0,
             "ticks": ""
            },
            "colorscale": [
             [
              0,
              "#0d0887"
             ],
             [
              0.1111111111111111,
              "#46039f"
             ],
             [
              0.2222222222222222,
              "#7201a8"
             ],
             [
              0.3333333333333333,
              "#9c179e"
             ],
             [
              0.4444444444444444,
              "#bd3786"
             ],
             [
              0.5555555555555556,
              "#d8576b"
             ],
             [
              0.6666666666666666,
              "#ed7953"
             ],
             [
              0.7777777777777778,
              "#fb9f3a"
             ],
             [
              0.8888888888888888,
              "#fdca26"
             ],
             [
              1,
              "#f0f921"
             ]
            ],
            "type": "heatmapgl"
           }
          ],
          "histogram": [
           {
            "marker": {
             "pattern": {
              "fillmode": "overlay",
              "size": 10,
              "solidity": 0.2
             }
            },
            "type": "histogram"
           }
          ],
          "histogram2d": [
           {
            "colorbar": {
             "outlinewidth": 0,
             "ticks": ""
            },
            "colorscale": [
             [
              0,
              "#0d0887"
             ],
             [
              0.1111111111111111,
              "#46039f"
             ],
             [
              0.2222222222222222,
              "#7201a8"
             ],
             [
              0.3333333333333333,
              "#9c179e"
             ],
             [
              0.4444444444444444,
              "#bd3786"
             ],
             [
              0.5555555555555556,
              "#d8576b"
             ],
             [
              0.6666666666666666,
              "#ed7953"
             ],
             [
              0.7777777777777778,
              "#fb9f3a"
             ],
             [
              0.8888888888888888,
              "#fdca26"
             ],
             [
              1,
              "#f0f921"
             ]
            ],
            "type": "histogram2d"
           }
          ],
          "histogram2dcontour": [
           {
            "colorbar": {
             "outlinewidth": 0,
             "ticks": ""
            },
            "colorscale": [
             [
              0,
              "#0d0887"
             ],
             [
              0.1111111111111111,
              "#46039f"
             ],
             [
              0.2222222222222222,
              "#7201a8"
             ],
             [
              0.3333333333333333,
              "#9c179e"
             ],
             [
              0.4444444444444444,
              "#bd3786"
             ],
             [
              0.5555555555555556,
              "#d8576b"
             ],
             [
              0.6666666666666666,
              "#ed7953"
             ],
             [
              0.7777777777777778,
              "#fb9f3a"
             ],
             [
              0.8888888888888888,
              "#fdca26"
             ],
             [
              1,
              "#f0f921"
             ]
            ],
            "type": "histogram2dcontour"
           }
          ],
          "mesh3d": [
           {
            "colorbar": {
             "outlinewidth": 0,
             "ticks": ""
            },
            "type": "mesh3d"
           }
          ],
          "parcoords": [
           {
            "line": {
             "colorbar": {
              "outlinewidth": 0,
              "ticks": ""
             }
            },
            "type": "parcoords"
           }
          ],
          "pie": [
           {
            "automargin": true,
            "type": "pie"
           }
          ],
          "scatter": [
           {
            "marker": {
             "colorbar": {
              "outlinewidth": 0,
              "ticks": ""
             }
            },
            "type": "scatter"
           }
          ],
          "scatter3d": [
           {
            "line": {
             "colorbar": {
              "outlinewidth": 0,
              "ticks": ""
             }
            },
            "marker": {
             "colorbar": {
              "outlinewidth": 0,
              "ticks": ""
             }
            },
            "type": "scatter3d"
           }
          ],
          "scattercarpet": [
           {
            "marker": {
             "colorbar": {
              "outlinewidth": 0,
              "ticks": ""
             }
            },
            "type": "scattercarpet"
           }
          ],
          "scattergeo": [
           {
            "marker": {
             "colorbar": {
              "outlinewidth": 0,
              "ticks": ""
             }
            },
            "type": "scattergeo"
           }
          ],
          "scattergl": [
           {
            "marker": {
             "colorbar": {
              "outlinewidth": 0,
              "ticks": ""
             }
            },
            "type": "scattergl"
           }
          ],
          "scattermapbox": [
           {
            "marker": {
             "colorbar": {
              "outlinewidth": 0,
              "ticks": ""
             }
            },
            "type": "scattermapbox"
           }
          ],
          "scatterpolar": [
           {
            "marker": {
             "colorbar": {
              "outlinewidth": 0,
              "ticks": ""
             }
            },
            "type": "scatterpolar"
           }
          ],
          "scatterpolargl": [
           {
            "marker": {
             "colorbar": {
              "outlinewidth": 0,
              "ticks": ""
             }
            },
            "type": "scatterpolargl"
           }
          ],
          "scatterternary": [
           {
            "marker": {
             "colorbar": {
              "outlinewidth": 0,
              "ticks": ""
             }
            },
            "type": "scatterternary"
           }
          ],
          "surface": [
           {
            "colorbar": {
             "outlinewidth": 0,
             "ticks": ""
            },
            "colorscale": [
             [
              0,
              "#0d0887"
             ],
             [
              0.1111111111111111,
              "#46039f"
             ],
             [
              0.2222222222222222,
              "#7201a8"
             ],
             [
              0.3333333333333333,
              "#9c179e"
             ],
             [
              0.4444444444444444,
              "#bd3786"
             ],
             [
              0.5555555555555556,
              "#d8576b"
             ],
             [
              0.6666666666666666,
              "#ed7953"
             ],
             [
              0.7777777777777778,
              "#fb9f3a"
             ],
             [
              0.8888888888888888,
              "#fdca26"
             ],
             [
              1,
              "#f0f921"
             ]
            ],
            "type": "surface"
           }
          ],
          "table": [
           {
            "cells": {
             "fill": {
              "color": "#EBF0F8"
             },
             "line": {
              "color": "white"
             }
            },
            "header": {
             "fill": {
              "color": "#C8D4E3"
             },
             "line": {
              "color": "white"
             }
            },
            "type": "table"
           }
          ]
         },
         "layout": {
          "annotationdefaults": {
           "arrowcolor": "#2a3f5f",
           "arrowhead": 0,
           "arrowwidth": 1
          },
          "autotypenumbers": "strict",
          "coloraxis": {
           "colorbar": {
            "outlinewidth": 0,
            "ticks": ""
           }
          },
          "colorscale": {
           "diverging": [
            [
             0,
             "#8e0152"
            ],
            [
             0.1,
             "#c51b7d"
            ],
            [
             0.2,
             "#de77ae"
            ],
            [
             0.3,
             "#f1b6da"
            ],
            [
             0.4,
             "#fde0ef"
            ],
            [
             0.5,
             "#f7f7f7"
            ],
            [
             0.6,
             "#e6f5d0"
            ],
            [
             0.7,
             "#b8e186"
            ],
            [
             0.8,
             "#7fbc41"
            ],
            [
             0.9,
             "#4d9221"
            ],
            [
             1,
             "#276419"
            ]
           ],
           "sequential": [
            [
             0,
             "#0d0887"
            ],
            [
             0.1111111111111111,
             "#46039f"
            ],
            [
             0.2222222222222222,
             "#7201a8"
            ],
            [
             0.3333333333333333,
             "#9c179e"
            ],
            [
             0.4444444444444444,
             "#bd3786"
            ],
            [
             0.5555555555555556,
             "#d8576b"
            ],
            [
             0.6666666666666666,
             "#ed7953"
            ],
            [
             0.7777777777777778,
             "#fb9f3a"
            ],
            [
             0.8888888888888888,
             "#fdca26"
            ],
            [
             1,
             "#f0f921"
            ]
           ],
           "sequentialminus": [
            [
             0,
             "#0d0887"
            ],
            [
             0.1111111111111111,
             "#46039f"
            ],
            [
             0.2222222222222222,
             "#7201a8"
            ],
            [
             0.3333333333333333,
             "#9c179e"
            ],
            [
             0.4444444444444444,
             "#bd3786"
            ],
            [
             0.5555555555555556,
             "#d8576b"
            ],
            [
             0.6666666666666666,
             "#ed7953"
            ],
            [
             0.7777777777777778,
             "#fb9f3a"
            ],
            [
             0.8888888888888888,
             "#fdca26"
            ],
            [
             1,
             "#f0f921"
            ]
           ]
          },
          "colorway": [
           "#636efa",
           "#EF553B",
           "#00cc96",
           "#ab63fa",
           "#FFA15A",
           "#19d3f3",
           "#FF6692",
           "#B6E880",
           "#FF97FF",
           "#FECB52"
          ],
          "font": {
           "color": "#2a3f5f"
          },
          "geo": {
           "bgcolor": "white",
           "lakecolor": "white",
           "landcolor": "#E5ECF6",
           "showlakes": true,
           "showland": true,
           "subunitcolor": "white"
          },
          "hoverlabel": {
           "align": "left"
          },
          "hovermode": "closest",
          "mapbox": {
           "style": "light"
          },
          "paper_bgcolor": "white",
          "plot_bgcolor": "#E5ECF6",
          "polar": {
           "angularaxis": {
            "gridcolor": "white",
            "linecolor": "white",
            "ticks": ""
           },
           "bgcolor": "#E5ECF6",
           "radialaxis": {
            "gridcolor": "white",
            "linecolor": "white",
            "ticks": ""
           }
          },
          "scene": {
           "xaxis": {
            "backgroundcolor": "#E5ECF6",
            "gridcolor": "white",
            "gridwidth": 2,
            "linecolor": "white",
            "showbackground": true,
            "ticks": "",
            "zerolinecolor": "white"
           },
           "yaxis": {
            "backgroundcolor": "#E5ECF6",
            "gridcolor": "white",
            "gridwidth": 2,
            "linecolor": "white",
            "showbackground": true,
            "ticks": "",
            "zerolinecolor": "white"
           },
           "zaxis": {
            "backgroundcolor": "#E5ECF6",
            "gridcolor": "white",
            "gridwidth": 2,
            "linecolor": "white",
            "showbackground": true,
            "ticks": "",
            "zerolinecolor": "white"
           }
          },
          "shapedefaults": {
           "line": {
            "color": "#2a3f5f"
           }
          },
          "ternary": {
           "aaxis": {
            "gridcolor": "white",
            "linecolor": "white",
            "ticks": ""
           },
           "baxis": {
            "gridcolor": "white",
            "linecolor": "white",
            "ticks": ""
           },
           "bgcolor": "#E5ECF6",
           "caxis": {
            "gridcolor": "white",
            "linecolor": "white",
            "ticks": ""
           }
          },
          "title": {
           "x": 0.05
          },
          "xaxis": {
           "automargin": true,
           "gridcolor": "white",
           "linecolor": "white",
           "ticks": "",
           "title": {
            "standoff": 15
           },
           "zerolinecolor": "white",
           "zerolinewidth": 2
          },
          "yaxis": {
           "automargin": true,
           "gridcolor": "white",
           "linecolor": "white",
           "ticks": "",
           "title": {
            "standoff": 15
           },
           "zerolinecolor": "white",
           "zerolinewidth": 2
          }
         }
        }
       }
      }
     },
     "metadata": {},
     "output_type": "display_data"
    },
    {
     "data": {
      "application/vnd.plotly.v1+json": {
       "config": {
        "plotlyServerURL": "https://plot.ly"
       },
       "data": [
        {
         "close": [
          4317.03,
          4293.87,
          4236.12,
          4190.66,
          4226.92,
          4225,
          4241.99,
          4302.93,
          4311.11,
          4316.56,
          4328.94,
          4315,
          4345.58,
          4375.33,
          4329.78,
          4349.98,
          4296.04,
          4283.72,
          4295.92,
          4364.28,
          4310.18,
          4295.81,
          4305.93,
          4319.43,
          4311.07,
          4320.92,
          4307.51,
          4318.83,
          4362.69,
          4365.1,
          4376,
          4340.81,
          4350.06,
          4425.55,
          4442.72,
          4413.09,
          4435.79,
          4488.38,
          4467.72,
          4511.42,
          4499.66,
          4475.57,
          4496.88,
          4509,
          4499.63,
          4527.04,
          4544.33,
          4589.89,
          4632.35,
          4610.98,
          4598.73,
          4588.75,
          4537.51,
          4559.36,
          4555.34,
          4610.62,
          4581.38,
          4594.49,
          4575.91,
          4577.27,
          4522.49,
          4482.22,
          4511.62,
          4545.68,
          4523.03,
          4549.26,
          4653.36,
          4623.46,
          4613,
          4607.74,
          4591.53,
          4603.35,
          4572.45,
          4554.98,
          4563.37,
          4556.41,
          4578.93,
          4539.73,
          4571.93,
          4516.16,
          4501.6,
          4525.07,
          4532.99,
          4509.29,
          4536.7,
          4547.09,
          4530.69,
          4480.33,
          4469.38,
          4442.51,
          4443.15,
          4489.83,
          4511.57,
          4521.64,
          4515.53,
          4532.32,
          4473.19,
          4526.06,
          4503.55,
          4542.4,
          4529.7,
          4540.93,
          4529.57,
          4529.35,
          4540.68,
          4509.59,
          4499.99,
          4473.58,
          4496.09,
          4517.86,
          4485.01,
          4462.04,
          4484.27,
          4482.92,
          4500.88,
          4495,
          4448.65,
          4461.65,
          4480.09,
          4474.24,
          4498.86,
          4497.42,
          4482.55,
          4491.01,
          4495,
          4507.02,
          4489.11,
          4471.72,
          4471.15,
          4462.08,
          4390.44,
          4369.52,
          4362.84,
          4382.62,
          4398,
          4398.57,
          4410,
          4417.58,
          4441.67,
          4493.73,
          4482.57,
          4509.78,
          4501.14,
          4518,
          4544.98,
          4552.58,
          4544.33,
          4549.99,
          4549.44,
          4544.57,
          4546.66,
          4541.5,
          4544.61,
          4582.59,
          4593.3,
          4592.95,
          4593.51,
          4605.44,
          4597.82,
          4604.05,
          4592.18,
          4610.16,
          4611.2,
          4603.36,
          4624.45,
          4625.62,
          4596.39,
          4612.59,
          4688.29,
          4686.66,
          4698.95,
          4720.51,
          4713.86,
          4720,
          4737.53,
          4723.29,
          4738.83,
          4720.24,
          4729.99,
          4730.02,
          4736.27,
          4715.79,
          4713.08,
          4763.77,
          4769.4,
          4782.44,
          4776.51,
          4752,
          4758.01,
          4771.25,
          4780.06,
          4807.98,
          4787.52,
          4794.01,
          4787.04,
          4814,
          4804.59,
          4825.21,
          4812.54,
          4783.96,
          4808.94,
          4815.98,
          4798.9,
          4774.61,
          4783.45,
          4812.98,
          4794.77,
          4790.99,
          4773.98,
          4776.68,
          4744.63,
          4750.62,
          4775.67,
          4798.16,
          4757.18,
          4732.33,
          4721.11,
          4730.73,
          4738,
          4691.48,
          4713.75,
          4701.07,
          4739.78,
          4714.6,
          4709.01,
          4707.12,
          4740.16,
          4729.67,
          4709.86,
          4792.39,
          4845.24,
          4846.71,
          4846.05,
          4839.12,
          4782.85,
          4705.37,
          4638.66,
          4552.68,
          4640.54,
          4628.78,
          4626.68,
          4615.69,
          4615.01,
          4636.68,
          4633.97,
          4656.01,
          4669.24,
          4691.34,
          4720.13,
          4727.98,
          4706.39,
          4721.95,
          4715.48,
          4703.01,
          4735.31,
          4719.81,
          4767.31,
          4751.8,
          4728.02,
          4758.98,
          4731.09,
          4743.76,
          4750.34,
          4719,
          4724.83,
          4785.01,
          4786.87,
          4774.35,
          4781.62,
          4739.45,
          4719.69,
          4711.39,
          4732.57,
          4617.02,
          4613.09,
          4600.85,
          4596.88,
          4604.6,
          4585,
          4571.06,
          4571.32,
          4616.8,
          4640.21,
          4654.21,
          4668.98,
          4654.98,
          4642.91,
          4665.46,
          4687.99,
          4630.91,
          4630.57,
          4639.5,
          4622.76,
          4618.31,
          4647.77,
          4645.55,
          4624.93,
          4592.46,
          4614.89,
          4609.31,
          4603.6,
          4615.71,
          4672.84,
          4680.23,
          4674.27,
          4685.51,
          4653.17,
          4643.8,
          4660.78,
          4656.98,
          4639.63,
          4644.28,
          4675.47
         ],
         "high": [
          4323.35,
          4325,
          4306.91,
          4241,
          4243.03,
          4252.58,
          4259.14,
          4320,
          4338.07,
          4344.41,
          4335,
          4354.33,
          4373.3,
          4377,
          4386.58,
          4353.1,
          4354.65,
          4303.02,
          4304.37,
          4366,
          4365.78,
          4310.99,
          4338,
          4334.54,
          4349.89,
          4342.19,
          4330.34,
          4322,
          4371.89,
          4371.04,
          4387.81,
          4379.69,
          4364.75,
          4438.4,
          4477.46,
          4452.75,
          4447.15,
          4488.88,
          4491.75,
          4519.69,
          4517.99,
          4503.18,
          4504.98,
          4519.64,
          4528.51,
          4528,
          4556.75,
          4599.6,
          4636.99,
          4639.98,
          4611.56,
          4599.05,
          4590.83,
          4573.28,
          4570,
          4615.84,
          4611.41,
          4620.45,
          4607.68,
          4582.5,
          4579.7,
          4553.82,
          4520.08,
          4547.45,
          4562,
          4562.28,
          4659.98,
          4665.87,
          4635,
          4628.01,
          4614.54,
          4609.01,
          4606.65,
          4584.01,
          4577.99,
          4570.01,
          4592.83,
          4583,
          4574.95,
          4582,
          4555.75,
          4528.29,
          4544.51,
          4542.51,
          4538.6,
          4554.69,
          4580.82,
          4535.86,
          4501,
          4481.7,
          4481.42,
          4489.83,
          4524,
          4527.86,
          4531.93,
          4537,
          4536,
          4527.58,
          4532.31,
          4555,
          4542.84,
          4540.93,
          4570.05,
          4553.93,
          4541.91,
          4544.71,
          4517.76,
          4515,
          4498.56,
          4534.99,
          4527.41,
          4488.77,
          4487.01,
          4500,
          4510.12,
          4501.52,
          4496.58,
          4480.11,
          4482,
          4482.04,
          4507.29,
          4511.7,
          4504.76,
          4497.44,
          4498.87,
          4515,
          4513.43,
          4491.79,
          4495.67,
          4481.53,
          4469.17,
          4397.15,
          4378.2,
          4402.01,
          4409.98,
          4408.05,
          4410.2,
          4445.62,
          4450,
          4494.55,
          4518.96,
          4530,
          4519.36,
          4518,
          4549,
          4571.83,
          4563,
          4555,
          4569.62,
          4551.27,
          4560,
          4554.73,
          4553.5,
          4599,
          4616.44,
          4599.14,
          4614.91,
          4615.96,
          4626.02,
          4608.34,
          4617.59,
          4610.16,
          4612.91,
          4619.03,
          4627.08,
          4637.98,
          4632,
          4616.27,
          4697,
          4707,
          4711.29,
          4737.26,
          4725.89,
          4729,
          4764.64,
          4748,
          4739.95,
          4740.83,
          4734.92,
          4735.21,
          4745,
          4763,
          4734.06,
          4777.22,
          4785.1,
          4793.98,
          4791.39,
          4788.47,
          4767.06,
          4786.43,
          4781,
          4822.97,
          4808.96,
          4803.67,
          4799,
          4815,
          4814,
          4825.54,
          4838.28,
          4819.11,
          4810.17,
          4822.97,
          4816.42,
          4801.94,
          4789.07,
          4813.99,
          4833.29,
          4827.88,
          4798.03,
          4785,
          4792.82,
          4753.59,
          4776.84,
          4801.67,
          4799.01,
          4767.17,
          4758.6,
          4744.19,
          4756,
          4738,
          4717.33,
          4716.44,
          4740.96,
          4743.92,
          4735.7,
          4725.11,
          4750.99,
          4755,
          4752,
          4799.93,
          4868,
          4856.59,
          4864.84,
          4854.27,
          4840.8,
          4810,
          4722,
          4658.16,
          4656.92,
          4640.59,
          4628.7,
          4632.31,
          4615.91,
          4651.56,
          4640.96,
          4662.18,
          4676.92,
          4697.66,
          4721.58,
          4743.09,
          4731.63,
          4722.3,
          4729.68,
          4722.97,
          4760.56,
          4756,
          4779,
          4774.76,
          4759.81,
          4761.89,
          4775.64,
          4753.3,
          4762,
          4752.27,
          4738.8,
          4791,
          4809.71,
          4794.48,
          4785,
          4783.71,
          4750.14,
          4729.99,
          4739.28,
          4733.76,
          4650,
          4639.49,
          4633.39,
          4617.15,
          4620.41,
          4601.09,
          4600,
          4619.86,
          4669.56,
          4658.67,
          4681.58,
          4693.05,
          4662.42,
          4685,
          4707.6,
          4692.73,
          4651.46,
          4646.55,
          4649.99,
          4634.69,
          4653.24,
          4652.19,
          4648.83,
          4629.57,
          4619.01,
          4620.02,
          4631.07,
          4628.64,
          4698,
          4693,
          4701.97,
          4686,
          4688.63,
          4653.17,
          4665.39,
          4661.84,
          4660.83,
          4664.23,
          4696.05
         ],
         "low": [
          4276.79,
          4293.12,
          4191.21,
          4175,
          4146.3,
          4220,
          4198.55,
          4241.46,
          4294.52,
          4310.64,
          4313.86,
          4303.48,
          4314.99,
          4336,
          4308.25,
          4325.85,
          4288.32,
          4269.69,
          4264.63,
          4279.36,
          4300,
          4278.07,
          4292.24,
          4304.39,
          4284.43,
          4297.96,
          4301.54,
          4298.51,
          4315.37,
          4338.64,
          4349.24,
          4337.28,
          4330.02,
          4340.01,
          4423.92,
          4411.42,
          4408.92,
          4435.78,
          4454.49,
          4467.47,
          4479.82,
          4473.45,
          4473.54,
          4491.04,
          4489.59,
          4479.46,
          4516.69,
          4541.62,
          4553.3,
          4598,
          4575.43,
          4575.46,
          4533.16,
          4508.16,
          4548.18,
          4550.96,
          4576.7,
          4572.9,
          4572.99,
          4550.49,
          4496.13,
          4476.41,
          4455,
          4495.87,
          4508.37,
          4517.67,
          4500,
          4615,
          4601.79,
          4592.02,
          4578.02,
          4575.24,
          4556.66,
          4553.15,
          4552.59,
          4540,
          4555.33,
          4531,
          4533.81,
          4513.73,
          4498,
          4478,
          4501.79,
          4490,
          4501.98,
          4512.53,
          4528.33,
          4459.21,
          4444.86,
          4441.18,
          4420.08,
          4440.65,
          4480,
          4501.75,
          4500.79,
          4510.31,
          4468.23,
          4469.14,
          4502.9,
          4503.27,
          4528.7,
          4516.2,
          4527.21,
          4527.61,
          4518.36,
          4496.95,
          4488,
          4462,
          4452.84,
          4491,
          4482.61,
          4450.72,
          4457.68,
          4471.84,
          4476.69,
          4475.74,
          4438.8,
          4447.61,
          4453.67,
          4455.7,
          4455.88,
          4477.69,
          4473.15,
          4474.21,
          4477.5,
          4490.95,
          4484.64,
          4457.05,
          4463.28,
          4461.65,
          4388.04,
          4338.97,
          4326.17,
          4359.46,
          4367.93,
          4390,
          4382.53,
          4404.84,
          4416.53,
          4438.72,
          4480.03,
          4482.47,
          4497.46,
          4498.49,
          4502.37,
          4540.46,
          4531.85,
          4538.96,
          4547.36,
          4537.42,
          4541.39,
          4538.08,
          4539.4,
          4518.61,
          4582.15,
          4571.85,
          4584.73,
          4591.12,
          4597.82,
          4574.04,
          4589.49,
          4587.77,
          4587.83,
          4593.55,
          4590.68,
          4621.49,
          4587.13,
          4594.21,
          4612,
          4678.39,
          4686.65,
          4697.37,
          4708.58,
          4713.08,
          4714.57,
          4715.11,
          4708.42,
          4715,
          4713.38,
          4717.99,
          4722.64,
          4711.63,
          4703.83,
          4709.62,
          4750,
          4767.54,
          4773.61,
          4748.68,
          4732.01,
          4752.99,
          4757.09,
          4763.28,
          4777.91,
          4780,
          4777.63,
          4776.37,
          4793.31,
          4802.65,
          4799,
          4775.77,
          4772.04,
          4801.24,
          4796.18,
          4753.46,
          4756.84,
          4780.73,
          4780,
          4760,
          4749.36,
          4738,
          4744.46,
          4713.89,
          4732,
          4763.54,
          4747.52,
          4717.07,
          4700,
          4712.18,
          4727.8,
          4679.98,
          4677.91,
          4697.3,
          4697.28,
          4708.43,
          4707,
          4700.11,
          4702.38,
          4729,
          4698.58,
          4693.62,
          4791.22,
          4831.51,
          4833.19,
          4824.09,
          4763.98,
          4695.55,
          4572.66,
          4461.93,
          4525.09,
          4579.39,
          4576.47,
          4594.04,
          4580.8,
          4602.13,
          4621,
          4633.21,
          4641.32,
          4669.25,
          4653.86,
          4700.23,
          4690.72,
          4694.48,
          4673.84,
          4692.99,
          4679.46,
          4706.43,
          4714.49,
          4742.56,
          4720.31,
          4728.02,
          4730.32,
          4730,
          4731.53,
          4713,
          4694.32,
          4691,
          4770.57,
          4761.11,
          4756.14,
          4738,
          4714.76,
          4692.76,
          4691.2,
          4607.32,
          4602,
          4573.61,
          4555.99,
          4540,
          4579.1,
          4552.99,
          4507.85,
          4558.68,
          4613.75,
          4621.6,
          4652.37,
          4650.01,
          4630.5,
          4642,
          4665.16,
          4628.45,
          4622.14,
          4628.3,
          4613.03,
          4611.3,
          4617.37,
          4625.46,
          4620,
          4584.08,
          4587.4,
          4598.06,
          4596.89,
          4600,
          4614.45,
          4665,
          4671.61,
          4660.86,
          4644.88,
          4620,
          4640.51,
          4642,
          4636.37,
          4632.79,
          4636.83
         ],
         "open": [
          4287.48,
          4317.03,
          4293.86,
          4236.14,
          4191.5,
          4226.91,
          4225,
          4241.99,
          4302.94,
          4311.11,
          4316.55,
          4328.94,
          4315,
          4345.58,
          4375.51,
          4329.78,
          4349.97,
          4296.04,
          4283.73,
          4295.92,
          4364.28,
          4310.48,
          4295.82,
          4305.92,
          4319.43,
          4310.93,
          4320.63,
          4307.51,
          4318.82,
          4362.69,
          4365.09,
          4376,
          4340.82,
          4350.09,
          4425.54,
          4442.72,
          4412.86,
          4435.79,
          4488.38,
          4467.72,
          4511.43,
          4499.66,
          4475.56,
          4496.88,
          4508.99,
          4499.44,
          4527.04,
          4544.33,
          4589.68,
          4632.4,
          4610.97,
          4598.74,
          4588.75,
          4537.56,
          4559.36,
          4555.34,
          4610.62,
          4581.39,
          4594.48,
          4575.91,
          4577.22,
          4522.48,
          4482.76,
          4511.61,
          4545.67,
          4523.03,
          4549.25,
          4653.36,
          4623.47,
          4613,
          4607.75,
          4591.69,
          4603.35,
          4572.44,
          4554.99,
          4563.37,
          4556.41,
          4578.93,
          4539.72,
          4571.92,
          4516.16,
          4501.6,
          4525.07,
          4532.98,
          4509.29,
          4536.69,
          4547.08,
          4530.7,
          4480.33,
          4469.38,
          4443.02,
          4443.15,
          4489.83,
          4511.58,
          4521.64,
          4515.53,
          4532.31,
          4473.2,
          4526.06,
          4503.55,
          4542.39,
          4529.69,
          4540.93,
          4529.57,
          4529.35,
          4540.68,
          4509.58,
          4500,
          4473.58,
          4496.09,
          4517.86,
          4485,
          4462.04,
          4484.28,
          4482.92,
          4500.88,
          4495,
          4448.65,
          4461.65,
          4480.1,
          4474.24,
          4498.86,
          4497.42,
          4482.54,
          4491.01,
          4494.99,
          4507.02,
          4489.11,
          4471.72,
          4471.14,
          4462.05,
          4390.43,
          4369.53,
          4362.84,
          4382.61,
          4398.01,
          4398.57,
          4410.01,
          4417.59,
          4441.67,
          4493.74,
          4482.58,
          4509.77,
          4501.14,
          4518,
          4544.97,
          4552.58,
          4544.09,
          4549.99,
          4549.43,
          4544.58,
          4546.66,
          4541.5,
          4544.62,
          4582.76,
          4593.29,
          4592.95,
          4593.5,
          4605.44,
          4597.82,
          4604.04,
          4592.19,
          4610.15,
          4611.19,
          4603.36,
          4624.45,
          4625.62,
          4596.39,
          4612.59,
          4688.29,
          4686.65,
          4698.96,
          4720.51,
          4714.01,
          4720.08,
          4737.53,
          4723.3,
          4738.83,
          4720.24,
          4730,
          4730.03,
          4736.27,
          4715.78,
          4713.08,
          4763.78,
          4769.4,
          4782.45,
          4776.5,
          4752,
          4758,
          4771.24,
          4780.05,
          4807.98,
          4787.51,
          4794,
          4787.03,
          4814,
          4804.59,
          4825.2,
          4812.54,
          4783.96,
          4808.95,
          4815.97,
          4798.91,
          4774.61,
          4783.44,
          4812.97,
          4794.77,
          4790.98,
          4773.97,
          4776.68,
          4744.62,
          4750.62,
          4775.67,
          4798.15,
          4757.18,
          4732.33,
          4721.11,
          4730.73,
          4737.99,
          4691.48,
          4713.76,
          4701.08,
          4739.79,
          4714.6,
          4709.01,
          4707.11,
          4740.17,
          4729.67,
          4709.86,
          4792.39,
          4845.25,
          4846.94,
          4846.06,
          4839.12,
          4782.86,
          4705.65,
          4638.25,
          4552.9,
          4640.57,
          4628.68,
          4626.69,
          4615.68,
          4615.01,
          4636.69,
          4633.97,
          4656.01,
          4669.25,
          4691.35,
          4720.52,
          4727.98,
          4706.39,
          4721.95,
          4715.47,
          4703.11,
          4735.3,
          4719.82,
          4767.31,
          4751.8,
          4728.02,
          4758.98,
          4731.1,
          4743.76,
          4750.34,
          4719,
          4724.82,
          4785.01,
          4786.72,
          4774.36,
          4781.63,
          4739.45,
          4719.7,
          4711.4,
          4732.58,
          4617.02,
          4613.09,
          4600.85,
          4596.84,
          4604.6,
          4585,
          4571.07,
          4571.33,
          4616.8,
          4640.2,
          4654.21,
          4668.97,
          4654.97,
          4642.91,
          4665.47,
          4687.99,
          4630.91,
          4630.57,
          4639.5,
          4622.76,
          4618.32,
          4647.78,
          4645.78,
          4624.93,
          4592.47,
          4614.9,
          4609.3,
          4603.6,
          4615.71,
          4672.85,
          4680.24,
          4674.26,
          4685.5,
          4653.17,
          4643.96,
          4660.78,
          4656.98,
          4639.62,
          4644.27
         ],
         "type": "candlestick",
         "x": [
          "2021-11-01T01:00:00",
          "2021-11-01T02:00:00",
          "2021-11-01T03:00:00",
          "2021-11-01T04:00:00",
          "2021-11-01T05:00:00",
          "2021-11-01T06:00:00",
          "2021-11-01T07:00:00",
          "2021-11-01T08:00:00",
          "2021-11-01T09:00:00",
          "2021-11-01T10:00:00",
          "2021-11-01T11:00:00",
          "2021-11-01T12:00:00",
          "2021-11-01T13:00:00",
          "2021-11-01T14:00:00",
          "2021-11-01T15:00:00",
          "2021-11-01T16:00:00",
          "2021-11-01T17:00:00",
          "2021-11-01T18:00:00",
          "2021-11-01T19:00:00",
          "2021-11-01T20:00:00",
          "2021-11-01T21:00:00",
          "2021-11-01T22:00:00",
          "2021-11-01T23:00:00",
          "2021-11-02T00:00:00",
          "2021-11-02T01:00:00",
          "2021-11-02T02:00:00",
          "2021-11-02T03:00:00",
          "2021-11-02T04:00:00",
          "2021-11-02T05:00:00",
          "2021-11-02T06:00:00",
          "2021-11-02T07:00:00",
          "2021-11-02T08:00:00",
          "2021-11-02T09:00:00",
          "2021-11-02T10:00:00",
          "2021-11-02T11:00:00",
          "2021-11-02T12:00:00",
          "2021-11-02T13:00:00",
          "2021-11-02T14:00:00",
          "2021-11-02T15:00:00",
          "2021-11-02T16:00:00",
          "2021-11-02T17:00:00",
          "2021-11-02T18:00:00",
          "2021-11-02T19:00:00",
          "2021-11-02T20:00:00",
          "2021-11-02T21:00:00",
          "2021-11-02T22:00:00",
          "2021-11-02T23:00:00",
          "2021-11-03T00:00:00",
          "2021-11-03T01:00:00",
          "2021-11-03T02:00:00",
          "2021-11-03T03:00:00",
          "2021-11-03T04:00:00",
          "2021-11-03T05:00:00",
          "2021-11-03T06:00:00",
          "2021-11-03T07:00:00",
          "2021-11-03T08:00:00",
          "2021-11-03T09:00:00",
          "2021-11-03T10:00:00",
          "2021-11-03T11:00:00",
          "2021-11-03T12:00:00",
          "2021-11-03T13:00:00",
          "2021-11-03T14:00:00",
          "2021-11-03T15:00:00",
          "2021-11-03T16:00:00",
          "2021-11-03T17:00:00",
          "2021-11-03T18:00:00",
          "2021-11-03T19:00:00",
          "2021-11-03T20:00:00",
          "2021-11-03T21:00:00",
          "2021-11-03T22:00:00",
          "2021-11-03T23:00:00",
          "2021-11-04T00:00:00",
          "2021-11-04T01:00:00",
          "2021-11-04T02:00:00",
          "2021-11-04T03:00:00",
          "2021-11-04T04:00:00",
          "2021-11-04T05:00:00",
          "2021-11-04T06:00:00",
          "2021-11-04T07:00:00",
          "2021-11-04T08:00:00",
          "2021-11-04T09:00:00",
          "2021-11-04T10:00:00",
          "2021-11-04T11:00:00",
          "2021-11-04T12:00:00",
          "2021-11-04T13:00:00",
          "2021-11-04T14:00:00",
          "2021-11-04T15:00:00",
          "2021-11-04T16:00:00",
          "2021-11-04T17:00:00",
          "2021-11-04T18:00:00",
          "2021-11-04T19:00:00",
          "2021-11-04T20:00:00",
          "2021-11-04T21:00:00",
          "2021-11-04T22:00:00",
          "2021-11-04T23:00:00",
          "2021-11-05T00:00:00",
          "2021-11-05T01:00:00",
          "2021-11-05T02:00:00",
          "2021-11-05T03:00:00",
          "2021-11-05T04:00:00",
          "2021-11-05T05:00:00",
          "2021-11-05T06:00:00",
          "2021-11-05T07:00:00",
          "2021-11-05T08:00:00",
          "2021-11-05T09:00:00",
          "2021-11-05T10:00:00",
          "2021-11-05T11:00:00",
          "2021-11-05T12:00:00",
          "2021-11-05T13:00:00",
          "2021-11-05T14:00:00",
          "2021-11-05T15:00:00",
          "2021-11-05T16:00:00",
          "2021-11-05T17:00:00",
          "2021-11-05T18:00:00",
          "2021-11-05T19:00:00",
          "2021-11-05T20:00:00",
          "2021-11-05T21:00:00",
          "2021-11-05T22:00:00",
          "2021-11-05T23:00:00",
          "2021-11-06T00:00:00",
          "2021-11-06T01:00:00",
          "2021-11-06T02:00:00",
          "2021-11-06T03:00:00",
          "2021-11-06T04:00:00",
          "2021-11-06T05:00:00",
          "2021-11-06T06:00:00",
          "2021-11-06T07:00:00",
          "2021-11-06T08:00:00",
          "2021-11-06T09:00:00",
          "2021-11-06T10:00:00",
          "2021-11-06T11:00:00",
          "2021-11-06T12:00:00",
          "2021-11-06T13:00:00",
          "2021-11-06T14:00:00",
          "2021-11-06T15:00:00",
          "2021-11-06T16:00:00",
          "2021-11-06T17:00:00",
          "2021-11-06T18:00:00",
          "2021-11-06T19:00:00",
          "2021-11-06T20:00:00",
          "2021-11-06T21:00:00",
          "2021-11-06T22:00:00",
          "2021-11-06T23:00:00",
          "2021-11-07T00:00:00",
          "2021-11-07T01:00:00",
          "2021-11-07T02:00:00",
          "2021-11-07T03:00:00",
          "2021-11-07T04:00:00",
          "2021-11-07T05:00:00",
          "2021-11-07T06:00:00",
          "2021-11-07T07:00:00",
          "2021-11-07T08:00:00",
          "2021-11-07T09:00:00",
          "2021-11-07T10:00:00",
          "2021-11-07T11:00:00",
          "2021-11-07T12:00:00",
          "2021-11-07T13:00:00",
          "2021-11-07T14:00:00",
          "2021-11-07T15:00:00",
          "2021-11-07T16:00:00",
          "2021-11-07T17:00:00",
          "2021-11-07T18:00:00",
          "2021-11-07T19:00:00",
          "2021-11-07T20:00:00",
          "2021-11-07T21:00:00",
          "2021-11-07T22:00:00",
          "2021-11-07T23:00:00",
          "2021-11-08T00:00:00",
          "2021-11-08T01:00:00",
          "2021-11-08T02:00:00",
          "2021-11-08T03:00:00",
          "2021-11-08T04:00:00",
          "2021-11-08T05:00:00",
          "2021-11-08T06:00:00",
          "2021-11-08T07:00:00",
          "2021-11-08T08:00:00",
          "2021-11-08T09:00:00",
          "2021-11-08T10:00:00",
          "2021-11-08T11:00:00",
          "2021-11-08T12:00:00",
          "2021-11-08T13:00:00",
          "2021-11-08T14:00:00",
          "2021-11-08T15:00:00",
          "2021-11-08T16:00:00",
          "2021-11-08T17:00:00",
          "2021-11-08T18:00:00",
          "2021-11-08T19:00:00",
          "2021-11-08T20:00:00",
          "2021-11-08T21:00:00",
          "2021-11-08T22:00:00",
          "2021-11-08T23:00:00",
          "2021-11-09T00:00:00",
          "2021-11-09T01:00:00",
          "2021-11-09T02:00:00",
          "2021-11-09T03:00:00",
          "2021-11-09T04:00:00",
          "2021-11-09T05:00:00",
          "2021-11-09T06:00:00",
          "2021-11-09T07:00:00",
          "2021-11-09T08:00:00",
          "2021-11-09T09:00:00",
          "2021-11-09T10:00:00",
          "2021-11-09T11:00:00",
          "2021-11-09T12:00:00",
          "2021-11-09T13:00:00",
          "2021-11-09T14:00:00",
          "2021-11-09T15:00:00",
          "2021-11-09T16:00:00",
          "2021-11-09T17:00:00",
          "2021-11-09T18:00:00",
          "2021-11-09T19:00:00",
          "2021-11-09T20:00:00",
          "2021-11-09T21:00:00",
          "2021-11-09T22:00:00",
          "2021-11-09T23:00:00",
          "2021-11-10T00:00:00",
          "2021-11-10T01:00:00",
          "2021-11-10T02:00:00",
          "2021-11-10T03:00:00",
          "2021-11-10T04:00:00",
          "2021-11-10T05:00:00",
          "2021-11-10T06:00:00",
          "2021-11-10T07:00:00",
          "2021-11-10T08:00:00",
          "2021-11-10T09:00:00",
          "2021-11-10T10:00:00",
          "2021-11-10T11:00:00",
          "2021-11-10T12:00:00",
          "2021-11-10T13:00:00",
          "2021-11-10T14:00:00",
          "2021-11-10T15:00:00",
          "2021-11-10T16:00:00",
          "2021-11-10T17:00:00",
          "2021-11-10T18:00:00",
          "2021-11-10T19:00:00",
          "2021-11-10T20:00:00",
          "2021-11-10T21:00:00",
          "2021-11-10T22:00:00",
          "2021-11-10T23:00:00",
          "2021-11-11T00:00:00",
          "2021-11-11T01:00:00",
          "2021-11-11T02:00:00",
          "2021-11-11T03:00:00",
          "2021-11-11T04:00:00",
          "2021-11-11T05:00:00",
          "2021-11-11T06:00:00",
          "2021-11-11T07:00:00",
          "2021-11-11T08:00:00",
          "2021-11-11T09:00:00",
          "2021-11-11T10:00:00",
          "2021-11-11T11:00:00",
          "2021-11-11T12:00:00",
          "2021-11-11T13:00:00",
          "2021-11-11T14:00:00",
          "2021-11-11T15:00:00",
          "2021-11-11T16:00:00",
          "2021-11-11T17:00:00",
          "2021-11-11T18:00:00",
          "2021-11-11T19:00:00",
          "2021-11-11T20:00:00",
          "2021-11-11T21:00:00",
          "2021-11-11T22:00:00",
          "2021-11-11T23:00:00",
          "2021-11-12T00:00:00",
          "2021-11-12T01:00:00",
          "2021-11-12T02:00:00",
          "2021-11-12T03:00:00",
          "2021-11-12T04:00:00",
          "2021-11-12T05:00:00",
          "2021-11-12T06:00:00",
          "2021-11-12T07:00:00",
          "2021-11-12T08:00:00",
          "2021-11-12T09:00:00",
          "2021-11-12T10:00:00",
          "2021-11-12T11:00:00",
          "2021-11-12T12:00:00",
          "2021-11-12T13:00:00",
          "2021-11-12T14:00:00",
          "2021-11-12T15:00:00",
          "2021-11-12T16:00:00",
          "2021-11-12T17:00:00",
          "2021-11-12T18:00:00",
          "2021-11-12T19:00:00",
          "2021-11-12T20:00:00",
          "2021-11-12T21:00:00",
          "2021-11-12T22:00:00",
          "2021-11-12T23:00:00",
          "2021-11-13T00:00:00",
          "2021-11-13T01:00:00",
          "2021-11-13T02:00:00",
          "2021-11-13T03:00:00",
          "2021-11-13T04:00:00",
          "2021-11-13T05:00:00",
          "2021-11-13T06:00:00",
          "2021-11-13T07:00:00",
          "2021-11-13T08:00:00",
          "2021-11-13T09:00:00",
          "2021-11-13T10:00:00",
          "2021-11-13T11:00:00",
          "2021-11-13T12:00:00",
          "2021-11-13T13:00:00",
          "2021-11-13T14:00:00",
          "2021-11-13T15:00:00",
          "2021-11-13T16:00:00",
          "2021-11-13T17:00:00",
          "2021-11-13T18:00:00",
          "2021-11-13T19:00:00",
          "2021-11-13T20:00:00",
          "2021-11-13T21:00:00",
          "2021-11-13T22:00:00",
          "2021-11-13T23:00:00",
          "2021-11-14T00:00:00",
          "2021-11-14T01:00:00"
         ]
        }
       ],
       "layout": {
        "template": {
         "data": {
          "bar": [
           {
            "error_x": {
             "color": "#2a3f5f"
            },
            "error_y": {
             "color": "#2a3f5f"
            },
            "marker": {
             "line": {
              "color": "#E5ECF6",
              "width": 0.5
             },
             "pattern": {
              "fillmode": "overlay",
              "size": 10,
              "solidity": 0.2
             }
            },
            "type": "bar"
           }
          ],
          "barpolar": [
           {
            "marker": {
             "line": {
              "color": "#E5ECF6",
              "width": 0.5
             },
             "pattern": {
              "fillmode": "overlay",
              "size": 10,
              "solidity": 0.2
             }
            },
            "type": "barpolar"
           }
          ],
          "carpet": [
           {
            "aaxis": {
             "endlinecolor": "#2a3f5f",
             "gridcolor": "white",
             "linecolor": "white",
             "minorgridcolor": "white",
             "startlinecolor": "#2a3f5f"
            },
            "baxis": {
             "endlinecolor": "#2a3f5f",
             "gridcolor": "white",
             "linecolor": "white",
             "minorgridcolor": "white",
             "startlinecolor": "#2a3f5f"
            },
            "type": "carpet"
           }
          ],
          "choropleth": [
           {
            "colorbar": {
             "outlinewidth": 0,
             "ticks": ""
            },
            "type": "choropleth"
           }
          ],
          "contour": [
           {
            "colorbar": {
             "outlinewidth": 0,
             "ticks": ""
            },
            "colorscale": [
             [
              0,
              "#0d0887"
             ],
             [
              0.1111111111111111,
              "#46039f"
             ],
             [
              0.2222222222222222,
              "#7201a8"
             ],
             [
              0.3333333333333333,
              "#9c179e"
             ],
             [
              0.4444444444444444,
              "#bd3786"
             ],
             [
              0.5555555555555556,
              "#d8576b"
             ],
             [
              0.6666666666666666,
              "#ed7953"
             ],
             [
              0.7777777777777778,
              "#fb9f3a"
             ],
             [
              0.8888888888888888,
              "#fdca26"
             ],
             [
              1,
              "#f0f921"
             ]
            ],
            "type": "contour"
           }
          ],
          "contourcarpet": [
           {
            "colorbar": {
             "outlinewidth": 0,
             "ticks": ""
            },
            "type": "contourcarpet"
           }
          ],
          "heatmap": [
           {
            "colorbar": {
             "outlinewidth": 0,
             "ticks": ""
            },
            "colorscale": [
             [
              0,
              "#0d0887"
             ],
             [
              0.1111111111111111,
              "#46039f"
             ],
             [
              0.2222222222222222,
              "#7201a8"
             ],
             [
              0.3333333333333333,
              "#9c179e"
             ],
             [
              0.4444444444444444,
              "#bd3786"
             ],
             [
              0.5555555555555556,
              "#d8576b"
             ],
             [
              0.6666666666666666,
              "#ed7953"
             ],
             [
              0.7777777777777778,
              "#fb9f3a"
             ],
             [
              0.8888888888888888,
              "#fdca26"
             ],
             [
              1,
              "#f0f921"
             ]
            ],
            "type": "heatmap"
           }
          ],
          "heatmapgl": [
           {
            "colorbar": {
             "outlinewidth": 0,
             "ticks": ""
            },
            "colorscale": [
             [
              0,
              "#0d0887"
             ],
             [
              0.1111111111111111,
              "#46039f"
             ],
             [
              0.2222222222222222,
              "#7201a8"
             ],
             [
              0.3333333333333333,
              "#9c179e"
             ],
             [
              0.4444444444444444,
              "#bd3786"
             ],
             [
              0.5555555555555556,
              "#d8576b"
             ],
             [
              0.6666666666666666,
              "#ed7953"
             ],
             [
              0.7777777777777778,
              "#fb9f3a"
             ],
             [
              0.8888888888888888,
              "#fdca26"
             ],
             [
              1,
              "#f0f921"
             ]
            ],
            "type": "heatmapgl"
           }
          ],
          "histogram": [
           {
            "marker": {
             "pattern": {
              "fillmode": "overlay",
              "size": 10,
              "solidity": 0.2
             }
            },
            "type": "histogram"
           }
          ],
          "histogram2d": [
           {
            "colorbar": {
             "outlinewidth": 0,
             "ticks": ""
            },
            "colorscale": [
             [
              0,
              "#0d0887"
             ],
             [
              0.1111111111111111,
              "#46039f"
             ],
             [
              0.2222222222222222,
              "#7201a8"
             ],
             [
              0.3333333333333333,
              "#9c179e"
             ],
             [
              0.4444444444444444,
              "#bd3786"
             ],
             [
              0.5555555555555556,
              "#d8576b"
             ],
             [
              0.6666666666666666,
              "#ed7953"
             ],
             [
              0.7777777777777778,
              "#fb9f3a"
             ],
             [
              0.8888888888888888,
              "#fdca26"
             ],
             [
              1,
              "#f0f921"
             ]
            ],
            "type": "histogram2d"
           }
          ],
          "histogram2dcontour": [
           {
            "colorbar": {
             "outlinewidth": 0,
             "ticks": ""
            },
            "colorscale": [
             [
              0,
              "#0d0887"
             ],
             [
              0.1111111111111111,
              "#46039f"
             ],
             [
              0.2222222222222222,
              "#7201a8"
             ],
             [
              0.3333333333333333,
              "#9c179e"
             ],
             [
              0.4444444444444444,
              "#bd3786"
             ],
             [
              0.5555555555555556,
              "#d8576b"
             ],
             [
              0.6666666666666666,
              "#ed7953"
             ],
             [
              0.7777777777777778,
              "#fb9f3a"
             ],
             [
              0.8888888888888888,
              "#fdca26"
             ],
             [
              1,
              "#f0f921"
             ]
            ],
            "type": "histogram2dcontour"
           }
          ],
          "mesh3d": [
           {
            "colorbar": {
             "outlinewidth": 0,
             "ticks": ""
            },
            "type": "mesh3d"
           }
          ],
          "parcoords": [
           {
            "line": {
             "colorbar": {
              "outlinewidth": 0,
              "ticks": ""
             }
            },
            "type": "parcoords"
           }
          ],
          "pie": [
           {
            "automargin": true,
            "type": "pie"
           }
          ],
          "scatter": [
           {
            "marker": {
             "colorbar": {
              "outlinewidth": 0,
              "ticks": ""
             }
            },
            "type": "scatter"
           }
          ],
          "scatter3d": [
           {
            "line": {
             "colorbar": {
              "outlinewidth": 0,
              "ticks": ""
             }
            },
            "marker": {
             "colorbar": {
              "outlinewidth": 0,
              "ticks": ""
             }
            },
            "type": "scatter3d"
           }
          ],
          "scattercarpet": [
           {
            "marker": {
             "colorbar": {
              "outlinewidth": 0,
              "ticks": ""
             }
            },
            "type": "scattercarpet"
           }
          ],
          "scattergeo": [
           {
            "marker": {
             "colorbar": {
              "outlinewidth": 0,
              "ticks": ""
             }
            },
            "type": "scattergeo"
           }
          ],
          "scattergl": [
           {
            "marker": {
             "colorbar": {
              "outlinewidth": 0,
              "ticks": ""
             }
            },
            "type": "scattergl"
           }
          ],
          "scattermapbox": [
           {
            "marker": {
             "colorbar": {
              "outlinewidth": 0,
              "ticks": ""
             }
            },
            "type": "scattermapbox"
           }
          ],
          "scatterpolar": [
           {
            "marker": {
             "colorbar": {
              "outlinewidth": 0,
              "ticks": ""
             }
            },
            "type": "scatterpolar"
           }
          ],
          "scatterpolargl": [
           {
            "marker": {
             "colorbar": {
              "outlinewidth": 0,
              "ticks": ""
             }
            },
            "type": "scatterpolargl"
           }
          ],
          "scatterternary": [
           {
            "marker": {
             "colorbar": {
              "outlinewidth": 0,
              "ticks": ""
             }
            },
            "type": "scatterternary"
           }
          ],
          "surface": [
           {
            "colorbar": {
             "outlinewidth": 0,
             "ticks": ""
            },
            "colorscale": [
             [
              0,
              "#0d0887"
             ],
             [
              0.1111111111111111,
              "#46039f"
             ],
             [
              0.2222222222222222,
              "#7201a8"
             ],
             [
              0.3333333333333333,
              "#9c179e"
             ],
             [
              0.4444444444444444,
              "#bd3786"
             ],
             [
              0.5555555555555556,
              "#d8576b"
             ],
             [
              0.6666666666666666,
              "#ed7953"
             ],
             [
              0.7777777777777778,
              "#fb9f3a"
             ],
             [
              0.8888888888888888,
              "#fdca26"
             ],
             [
              1,
              "#f0f921"
             ]
            ],
            "type": "surface"
           }
          ],
          "table": [
           {
            "cells": {
             "fill": {
              "color": "#EBF0F8"
             },
             "line": {
              "color": "white"
             }
            },
            "header": {
             "fill": {
              "color": "#C8D4E3"
             },
             "line": {
              "color": "white"
             }
            },
            "type": "table"
           }
          ]
         },
         "layout": {
          "annotationdefaults": {
           "arrowcolor": "#2a3f5f",
           "arrowhead": 0,
           "arrowwidth": 1
          },
          "autotypenumbers": "strict",
          "coloraxis": {
           "colorbar": {
            "outlinewidth": 0,
            "ticks": ""
           }
          },
          "colorscale": {
           "diverging": [
            [
             0,
             "#8e0152"
            ],
            [
             0.1,
             "#c51b7d"
            ],
            [
             0.2,
             "#de77ae"
            ],
            [
             0.3,
             "#f1b6da"
            ],
            [
             0.4,
             "#fde0ef"
            ],
            [
             0.5,
             "#f7f7f7"
            ],
            [
             0.6,
             "#e6f5d0"
            ],
            [
             0.7,
             "#b8e186"
            ],
            [
             0.8,
             "#7fbc41"
            ],
            [
             0.9,
             "#4d9221"
            ],
            [
             1,
             "#276419"
            ]
           ],
           "sequential": [
            [
             0,
             "#0d0887"
            ],
            [
             0.1111111111111111,
             "#46039f"
            ],
            [
             0.2222222222222222,
             "#7201a8"
            ],
            [
             0.3333333333333333,
             "#9c179e"
            ],
            [
             0.4444444444444444,
             "#bd3786"
            ],
            [
             0.5555555555555556,
             "#d8576b"
            ],
            [
             0.6666666666666666,
             "#ed7953"
            ],
            [
             0.7777777777777778,
             "#fb9f3a"
            ],
            [
             0.8888888888888888,
             "#fdca26"
            ],
            [
             1,
             "#f0f921"
            ]
           ],
           "sequentialminus": [
            [
             0,
             "#0d0887"
            ],
            [
             0.1111111111111111,
             "#46039f"
            ],
            [
             0.2222222222222222,
             "#7201a8"
            ],
            [
             0.3333333333333333,
             "#9c179e"
            ],
            [
             0.4444444444444444,
             "#bd3786"
            ],
            [
             0.5555555555555556,
             "#d8576b"
            ],
            [
             0.6666666666666666,
             "#ed7953"
            ],
            [
             0.7777777777777778,
             "#fb9f3a"
            ],
            [
             0.8888888888888888,
             "#fdca26"
            ],
            [
             1,
             "#f0f921"
            ]
           ]
          },
          "colorway": [
           "#636efa",
           "#EF553B",
           "#00cc96",
           "#ab63fa",
           "#FFA15A",
           "#19d3f3",
           "#FF6692",
           "#B6E880",
           "#FF97FF",
           "#FECB52"
          ],
          "font": {
           "color": "#2a3f5f"
          },
          "geo": {
           "bgcolor": "white",
           "lakecolor": "white",
           "landcolor": "#E5ECF6",
           "showlakes": true,
           "showland": true,
           "subunitcolor": "white"
          },
          "hoverlabel": {
           "align": "left"
          },
          "hovermode": "closest",
          "mapbox": {
           "style": "light"
          },
          "paper_bgcolor": "white",
          "plot_bgcolor": "#E5ECF6",
          "polar": {
           "angularaxis": {
            "gridcolor": "white",
            "linecolor": "white",
            "ticks": ""
           },
           "bgcolor": "#E5ECF6",
           "radialaxis": {
            "gridcolor": "white",
            "linecolor": "white",
            "ticks": ""
           }
          },
          "scene": {
           "xaxis": {
            "backgroundcolor": "#E5ECF6",
            "gridcolor": "white",
            "gridwidth": 2,
            "linecolor": "white",
            "showbackground": true,
            "ticks": "",
            "zerolinecolor": "white"
           },
           "yaxis": {
            "backgroundcolor": "#E5ECF6",
            "gridcolor": "white",
            "gridwidth": 2,
            "linecolor": "white",
            "showbackground": true,
            "ticks": "",
            "zerolinecolor": "white"
           },
           "zaxis": {
            "backgroundcolor": "#E5ECF6",
            "gridcolor": "white",
            "gridwidth": 2,
            "linecolor": "white",
            "showbackground": true,
            "ticks": "",
            "zerolinecolor": "white"
           }
          },
          "shapedefaults": {
           "line": {
            "color": "#2a3f5f"
           }
          },
          "ternary": {
           "aaxis": {
            "gridcolor": "white",
            "linecolor": "white",
            "ticks": ""
           },
           "baxis": {
            "gridcolor": "white",
            "linecolor": "white",
            "ticks": ""
           },
           "bgcolor": "#E5ECF6",
           "caxis": {
            "gridcolor": "white",
            "linecolor": "white",
            "ticks": ""
           }
          },
          "title": {
           "x": 0.05
          },
          "xaxis": {
           "automargin": true,
           "gridcolor": "white",
           "linecolor": "white",
           "ticks": "",
           "title": {
            "standoff": 15
           },
           "zerolinecolor": "white",
           "zerolinewidth": 2
          },
          "yaxis": {
           "automargin": true,
           "gridcolor": "white",
           "linecolor": "white",
           "ticks": "",
           "title": {
            "standoff": 15
           },
           "zerolinecolor": "white",
           "zerolinewidth": 2
          }
         }
        }
       }
      }
     },
     "metadata": {},
     "output_type": "display_data"
    },
    {
     "data": {
      "application/vnd.plotly.v1+json": {
       "config": {
        "plotlyServerURL": "https://plot.ly"
       },
       "data": [
        {
         "close": [
          1.13,
          1.1087,
          1.0911,
          1.0781,
          1.0879,
          1.0883,
          1.088,
          1.1035,
          1.0953,
          1.0994,
          1.0949,
          1.092,
          1.0901,
          1.0996,
          1.0913,
          1.0928,
          1.083,
          1.0846,
          1.0866,
          1.0942,
          1.0874,
          1.0908,
          1.0936,
          1.0915,
          1.0897,
          1.0917,
          1.0935,
          1.098,
          1.0988,
          1.1019,
          1.1006,
          1.0949,
          1.0943,
          1.1105,
          1.1078,
          1.1104,
          1.1092,
          1.1123,
          1.1104,
          1.1208,
          1.132,
          1.1335,
          1.1407,
          1.1343,
          1.1235,
          1.1254,
          1.126,
          1.1349,
          1.1374,
          1.1405,
          1.147,
          1.1473,
          1.2049,
          1.1912,
          1.1925,
          1.2016,
          1.1937,
          1.2129,
          1.1966,
          1.1973,
          1.1593,
          1.1575,
          1.1628,
          1.1692,
          1.1624,
          1.1759,
          1.1991,
          1.1913,
          1.2022,
          1.2121,
          1.1996,
          1.2101,
          1.2018,
          1.2404,
          1.2349,
          1.2245,
          1.2333,
          1.2141,
          1.2227,
          1.1926,
          1.1952,
          1.2005,
          1.2031,
          1.1876,
          1.2029,
          1.2037,
          1.1964,
          1.1765,
          1.1839,
          1.169,
          1.1716,
          1.1842,
          1.1887,
          1.1855,
          1.1902,
          1.2004,
          1.172,
          1.187,
          1.1828,
          1.1957,
          1.1909,
          1.1915,
          1.1927,
          1.186,
          1.1912,
          1.1828,
          1.1765,
          1.1684,
          1.162,
          1.1651,
          1.1504,
          1.1495,
          1.1554,
          1.1541,
          1.1587,
          1.1519,
          1.1462,
          1.1541,
          1.1591,
          1.1581,
          1.1698,
          1.1659,
          1.1604,
          1.1656,
          1.1664,
          1.1682,
          1.1647,
          1.1555,
          1.1568,
          1.1541,
          1.142,
          1.1282,
          1.1222,
          1.132,
          1.1346,
          1.1367,
          1.134,
          1.1338,
          1.1332,
          1.1485,
          1.144,
          1.1479,
          1.1496,
          1.151,
          1.1544,
          1.1557,
          1.1528,
          1.1535,
          1.1542,
          1.1691,
          1.1701,
          1.1649,
          1.1671,
          1.1712,
          1.1699,
          1.187,
          1.185,
          1.192,
          1.2091,
          1.2131,
          1.211,
          1.208,
          1.2293,
          1.2223,
          1.2169,
          1.2222,
          1.2128,
          1.2198,
          1.2578,
          1.2598,
          1.2616,
          1.2594,
          1.275,
          1.2753,
          1.2801,
          1.2762,
          1.2703,
          1.2622,
          1.2553,
          1.2663,
          1.2575,
          1.24,
          1.2488,
          1.2596,
          1.2495,
          1.2556,
          1.2636,
          1.2524,
          1.2607,
          1.2661,
          1.2758,
          1.2815,
          1.2748,
          1.2638,
          1.2709,
          1.2764,
          1.2704,
          1.2733,
          1.2685,
          1.2484,
          1.2617,
          1.26,
          1.2586,
          1.2423,
          1.247,
          1.2489,
          1.2539,
          1.249,
          1.2527,
          1.2619,
          1.2515,
          1.257,
          1.2666,
          1.2607,
          1.2714,
          1.2571,
          1.2414,
          1.2417,
          1.2422,
          1.2295,
          1.2386,
          1.2289,
          1.2351,
          1.239,
          1.2417,
          1.236,
          1.2433,
          1.242,
          1.2687,
          1.3129,
          1.3156,
          1.3207,
          1.3209,
          1.3294,
          1.313,
          1.2797,
          1.2382,
          1.1801,
          1.2002,
          1.1902,
          1.2044,
          1.194,
          1.1917,
          1.1997,
          1.2052,
          1.2232,
          1.2356,
          1.2444,
          1.2426,
          1.2433,
          1.2305,
          1.2327,
          1.2234,
          1.209,
          1.2157,
          1.2132,
          1.2169,
          1.2061,
          1.2055,
          1.2158,
          1.2101,
          1.2155,
          1.2292,
          1.2142,
          1.2227,
          1.2199,
          1.222,
          1.2151,
          1.2162,
          1.2059,
          1.2018,
          1.2048,
          1.2069,
          1.1689,
          1.1666,
          1.1718,
          1.1758,
          1.1792,
          1.1732,
          1.1697,
          1.1738,
          1.1804,
          1.1865,
          1.1813,
          1.1962,
          1.1902,
          1.1906,
          1.1883,
          1.1898,
          1.1782,
          1.1774,
          1.1777,
          1.175,
          1.1741,
          1.1892,
          1.1942,
          1.1906,
          1.1821,
          1.1869,
          1.1789,
          1.1737,
          1.1719,
          1.1929,
          1.1949,
          1.1969,
          1.1994,
          1.1874,
          1.1868,
          1.1924,
          1.187,
          1.1881,
          1.1892,
          1.1923
         ],
         "high": [
          1.1321,
          1.1309,
          1.1133,
          1.093,
          1.0901,
          1.0934,
          1.0913,
          1.1065,
          1.1055,
          1.1042,
          1.1019,
          1.0993,
          1.0975,
          1.1018,
          1.1023,
          1.0955,
          1.0944,
          1.087,
          1.0868,
          1.0946,
          1.0942,
          1.0922,
          1.096,
          1.0954,
          1.0989,
          1.101,
          1.0992,
          1.0988,
          1.0997,
          1.103,
          1.1028,
          1.1015,
          1.0962,
          1.1145,
          1.1153,
          1.1191,
          1.1159,
          1.1165,
          1.1149,
          1.1285,
          1.1468,
          1.1397,
          1.145,
          1.143,
          1.14,
          1.1284,
          1.1278,
          1.1385,
          1.1406,
          1.1407,
          1.1478,
          1.152,
          1.2229,
          1.2363,
          1.2055,
          1.2133,
          1.2144,
          1.2159,
          1.213,
          1.2026,
          1.2008,
          1.1705,
          1.1696,
          1.1699,
          1.1791,
          1.1791,
          1.204,
          1.203,
          1.2033,
          1.2124,
          1.227,
          1.2164,
          1.2377,
          1.2574,
          1.2569,
          1.2445,
          1.2411,
          1.2336,
          1.2248,
          1.2263,
          1.2109,
          1.2061,
          1.2081,
          1.2051,
          1.2039,
          1.2064,
          1.2162,
          1.1983,
          1.194,
          1.1882,
          1.1859,
          1.185,
          1.1918,
          1.19,
          1.192,
          1.2023,
          1.2015,
          1.1872,
          1.1923,
          1.2,
          1.197,
          1.1941,
          1.1988,
          1.1964,
          1.1921,
          1.1918,
          1.1863,
          1.181,
          1.1749,
          1.1707,
          1.1659,
          1.1544,
          1.158,
          1.1559,
          1.1596,
          1.1591,
          1.1519,
          1.16,
          1.1613,
          1.1635,
          1.172,
          1.1828,
          1.1674,
          1.1669,
          1.1683,
          1.1685,
          1.17,
          1.1665,
          1.1611,
          1.1604,
          1.1567,
          1.142,
          1.133,
          1.1349,
          1.1362,
          1.1394,
          1.1379,
          1.1387,
          1.1364,
          1.1485,
          1.1496,
          1.1499,
          1.152,
          1.152,
          1.1547,
          1.16,
          1.1564,
          1.155,
          1.1557,
          1.1733,
          1.179,
          1.1777,
          1.1729,
          1.1754,
          1.1767,
          1.1887,
          1.1954,
          1.1937,
          1.2209,
          1.2236,
          1.2199,
          1.2266,
          1.2299,
          1.2374,
          1.2234,
          1.2284,
          1.2237,
          1.2204,
          1.2774,
          1.2659,
          1.2709,
          1.2646,
          1.2837,
          1.296,
          1.2943,
          1.2898,
          1.2889,
          1.2703,
          1.2677,
          1.2665,
          1.2663,
          1.2623,
          1.25,
          1.2649,
          1.2619,
          1.2592,
          1.265,
          1.2639,
          1.2624,
          1.2757,
          1.2817,
          1.2918,
          1.2884,
          1.2765,
          1.2731,
          1.2784,
          1.279,
          1.2796,
          1.2757,
          1.2694,
          1.2646,
          1.269,
          1.2677,
          1.263,
          1.252,
          1.2533,
          1.2736,
          1.2632,
          1.2603,
          1.2675,
          1.2649,
          1.2573,
          1.269,
          1.2669,
          1.2721,
          1.2728,
          1.2645,
          1.2493,
          1.2472,
          1.2422,
          1.2403,
          1.2391,
          1.2384,
          1.2448,
          1.248,
          1.246,
          1.2467,
          1.2484,
          1.2917,
          1.3332,
          1.337,
          1.3267,
          1.3349,
          1.3493,
          1.3327,
          1.3232,
          1.2873,
          1.2502,
          1.2099,
          1.2002,
          1.205,
          1.2058,
          1.194,
          1.2031,
          1.2072,
          1.2244,
          1.2363,
          1.2544,
          1.2491,
          1.2478,
          1.2448,
          1.2387,
          1.2372,
          1.2269,
          1.2247,
          1.2198,
          1.2235,
          1.22,
          1.2139,
          1.2175,
          1.2191,
          1.2186,
          1.2329,
          1.2299,
          1.2332,
          1.2272,
          1.2331,
          1.2234,
          1.2185,
          1.2178,
          1.2131,
          1.2056,
          1.211,
          1.2084,
          1.1823,
          1.1784,
          1.1834,
          1.1823,
          1.1819,
          1.1782,
          1.1807,
          1.181,
          1.1954,
          1.1873,
          1.2039,
          1.2024,
          1.1958,
          1.1937,
          1.1976,
          1.1907,
          1.1851,
          1.1823,
          1.1806,
          1.178,
          1.19,
          1.1958,
          1.1979,
          1.1927,
          1.1887,
          1.1877,
          1.1832,
          1.1812,
          1.1974,
          1.1987,
          1.2039,
          1.2027,
          1.1998,
          1.1898,
          1.1937,
          1.1932,
          1.1887,
          1.1932,
          1.1995
         ],
         "low": [
          1.1067,
          1.108,
          1.0831,
          1.0742,
          1.069,
          1.0855,
          1.0795,
          1.088,
          1.0947,
          1.0953,
          1.0929,
          1.0908,
          1.085,
          1.0863,
          1.0882,
          1.0884,
          1.08,
          1.0782,
          1.0788,
          1.0828,
          1.0843,
          1.0835,
          1.0906,
          1.0903,
          1.0851,
          1.0871,
          1.0917,
          1.0919,
          1.0944,
          1.0959,
          1.0987,
          1.0938,
          1.0921,
          1.0919,
          1.1058,
          1.1073,
          1.1072,
          1.1083,
          1.1088,
          1.1103,
          1.1145,
          1.1282,
          1.1286,
          1.1319,
          1.1221,
          1.1194,
          1.123,
          1.1243,
          1.1255,
          1.131,
          1.1325,
          1.1382,
          1.1473,
          1.1908,
          1.183,
          1.1908,
          1.1867,
          1.192,
          1.1963,
          1.1884,
          1.1427,
          1.1459,
          1.1477,
          1.1547,
          1.1581,
          1.1592,
          1.1594,
          1.1899,
          1.1897,
          1.1988,
          1.1972,
          1.1994,
          1.1954,
          1.1974,
          1.2267,
          1.2242,
          1.2242,
          1.2113,
          1.2129,
          1.1915,
          1.1927,
          1.1893,
          1.1917,
          1.1787,
          1.1834,
          1.1938,
          1.1946,
          1.1619,
          1.1604,
          1.1656,
          1.1656,
          1.1708,
          1.1775,
          1.1808,
          1.1804,
          1.1899,
          1.1707,
          1.1719,
          1.1826,
          1.1825,
          1.1901,
          1.1843,
          1.1913,
          1.1843,
          1.185,
          1.1767,
          1.1708,
          1.167,
          1.1584,
          1.1587,
          1.1466,
          1.1311,
          1.1473,
          1.1485,
          1.1523,
          1.1429,
          1.14,
          1.1439,
          1.1512,
          1.152,
          1.153,
          1.16,
          1.1578,
          1.1591,
          1.1622,
          1.1653,
          1.1632,
          1.1456,
          1.151,
          1.154,
          1.1388,
          1.1,
          1.11,
          1.1193,
          1.1252,
          1.1331,
          1.127,
          1.132,
          1.1305,
          1.1324,
          1.1436,
          1.144,
          1.1468,
          1.147,
          1.1451,
          1.1529,
          1.1517,
          1.1504,
          1.151,
          1.1526,
          1.1655,
          1.1644,
          1.1646,
          1.1596,
          1.1668,
          1.1666,
          1.1795,
          1.1831,
          1.1916,
          1.2064,
          1.2091,
          1.2066,
          1.208,
          1.22,
          1.2123,
          1.2153,
          1.2094,
          1.2126,
          1.2192,
          1.2484,
          1.2538,
          1.2498,
          1.2592,
          1.273,
          1.2739,
          1.2712,
          1.253,
          1.2523,
          1.2544,
          1.2552,
          1.2538,
          1.2392,
          1.2389,
          1.2456,
          1.246,
          1.2467,
          1.2529,
          1.2501,
          1.2464,
          1.2585,
          1.2636,
          1.2716,
          1.266,
          1.2564,
          1.2626,
          1.2694,
          1.2638,
          1.2663,
          1.2627,
          1.243,
          1.2479,
          1.2563,
          1.2571,
          1.2245,
          1.2289,
          1.2438,
          1.2387,
          1.2314,
          1.2394,
          1.2424,
          1.2511,
          1.2374,
          1.2507,
          1.2564,
          1.2517,
          1.256,
          1.235,
          1.2364,
          1.2395,
          1.2257,
          1.2201,
          1.2281,
          1.2258,
          1.2301,
          1.2383,
          1.2353,
          1.2338,
          1.2399,
          1.2379,
          1.2678,
          1.3039,
          1.3048,
          1.3151,
          1.3182,
          1.3081,
          1.2747,
          1.2122,
          1.1174,
          1.1664,
          1.1704,
          1.1792,
          1.1871,
          1.1764,
          1.1886,
          1.196,
          1.2024,
          1.2137,
          1.2327,
          1.2229,
          1.232,
          1.2277,
          1.223,
          1.212,
          1.1993,
          1.1963,
          1.2051,
          1.2103,
          1.2057,
          1.1974,
          1.2053,
          1.2085,
          1.2085,
          1.2117,
          1.2141,
          1.2094,
          1.1973,
          1.2198,
          1.2066,
          1.2088,
          1.2051,
          1.1999,
          1.1911,
          1.1932,
          1.1579,
          1.1629,
          1.1601,
          1.1615,
          1.1636,
          1.1725,
          1.1618,
          1.1542,
          1.1662,
          1.1792,
          1.176,
          1.1808,
          1.1874,
          1.1849,
          1.1855,
          1.1872,
          1.1774,
          1.1751,
          1.1752,
          1.1723,
          1.1697,
          1.174,
          1.1826,
          1.1885,
          1.1788,
          1.1806,
          1.1763,
          1.1713,
          1.167,
          1.1714,
          1.1916,
          1.1949,
          1.1951,
          1.1843,
          1.1834,
          1.1859,
          1.183,
          1.1834,
          1.1866,
          1.1885
         ],
         "open": [
          1.1128,
          1.13,
          1.1088,
          1.0912,
          1.078,
          1.0879,
          1.0882,
          1.088,
          1.1035,
          1.0953,
          1.0994,
          1.0949,
          1.0919,
          1.0901,
          1.0996,
          1.0912,
          1.0929,
          1.083,
          1.0846,
          1.0866,
          1.0942,
          1.0875,
          1.0908,
          1.0935,
          1.0916,
          1.0897,
          1.0917,
          1.0935,
          1.098,
          1.0989,
          1.1018,
          1.1006,
          1.0949,
          1.0943,
          1.1105,
          1.1078,
          1.1103,
          1.1092,
          1.1122,
          1.1105,
          1.1209,
          1.1319,
          1.1335,
          1.1407,
          1.1343,
          1.1236,
          1.1255,
          1.126,
          1.1348,
          1.1374,
          1.1406,
          1.147,
          1.1474,
          1.2048,
          1.1912,
          1.1925,
          1.2015,
          1.1936,
          1.2129,
          1.1966,
          1.1973,
          1.1594,
          1.1574,
          1.1627,
          1.1695,
          1.1624,
          1.1759,
          1.1991,
          1.1912,
          1.2022,
          1.2121,
          1.1996,
          1.21,
          1.2018,
          1.2404,
          1.2349,
          1.2244,
          1.2332,
          1.2142,
          1.2227,
          1.1927,
          1.1953,
          1.2006,
          1.2031,
          1.1877,
          1.2029,
          1.2036,
          1.1963,
          1.1765,
          1.1838,
          1.1692,
          1.1715,
          1.1843,
          1.1887,
          1.1855,
          1.1901,
          1.2004,
          1.172,
          1.1871,
          1.1828,
          1.1957,
          1.1908,
          1.1916,
          1.1928,
          1.186,
          1.1911,
          1.1829,
          1.1766,
          1.1684,
          1.162,
          1.165,
          1.1505,
          1.1496,
          1.1554,
          1.154,
          1.1587,
          1.1518,
          1.1462,
          1.1541,
          1.1591,
          1.1581,
          1.1699,
          1.166,
          1.1604,
          1.1655,
          1.1665,
          1.1683,
          1.1648,
          1.1556,
          1.1569,
          1.1541,
          1.142,
          1.1281,
          1.1223,
          1.132,
          1.1347,
          1.1368,
          1.1342,
          1.1338,
          1.1332,
          1.1484,
          1.1441,
          1.1478,
          1.1496,
          1.1511,
          1.1543,
          1.1556,
          1.1528,
          1.1537,
          1.1541,
          1.169,
          1.1702,
          1.1648,
          1.1671,
          1.1713,
          1.1699,
          1.1869,
          1.1846,
          1.192,
          1.2091,
          1.2132,
          1.211,
          1.208,
          1.2293,
          1.2223,
          1.2168,
          1.2222,
          1.2127,
          1.2198,
          1.2581,
          1.2597,
          1.2616,
          1.2594,
          1.275,
          1.2753,
          1.2802,
          1.276,
          1.2702,
          1.2623,
          1.2552,
          1.2663,
          1.2576,
          1.24,
          1.2488,
          1.2597,
          1.2496,
          1.2557,
          1.2636,
          1.2524,
          1.2607,
          1.2662,
          1.2758,
          1.2815,
          1.2747,
          1.2638,
          1.2709,
          1.2763,
          1.2704,
          1.2733,
          1.2685,
          1.2484,
          1.2617,
          1.2599,
          1.2586,
          1.2424,
          1.2471,
          1.2488,
          1.2538,
          1.249,
          1.2526,
          1.2619,
          1.2515,
          1.2569,
          1.2667,
          1.2608,
          1.2714,
          1.2572,
          1.2414,
          1.2417,
          1.2421,
          1.2295,
          1.2386,
          1.2289,
          1.2351,
          1.2389,
          1.2418,
          1.236,
          1.2433,
          1.2421,
          1.2688,
          1.3126,
          1.3156,
          1.3206,
          1.3209,
          1.3295,
          1.313,
          1.2794,
          1.2379,
          1.1801,
          1.2002,
          1.1902,
          1.2044,
          1.194,
          1.1916,
          1.1998,
          1.2051,
          1.2233,
          1.2355,
          1.2442,
          1.2425,
          1.2433,
          1.2305,
          1.2327,
          1.2234,
          1.209,
          1.2157,
          1.2132,
          1.2169,
          1.2061,
          1.2054,
          1.2159,
          1.2102,
          1.2154,
          1.2292,
          1.2142,
          1.2227,
          1.2198,
          1.222,
          1.2152,
          1.2163,
          1.2059,
          1.2017,
          1.2048,
          1.207,
          1.1688,
          1.1665,
          1.1718,
          1.1758,
          1.1793,
          1.1732,
          1.1697,
          1.1739,
          1.1804,
          1.1865,
          1.1813,
          1.1962,
          1.1901,
          1.1907,
          1.1884,
          1.1898,
          1.1783,
          1.1773,
          1.1777,
          1.1751,
          1.1741,
          1.1893,
          1.1943,
          1.1907,
          1.1822,
          1.187,
          1.1789,
          1.1736,
          1.172,
          1.193,
          1.1949,
          1.1968,
          1.1994,
          1.1874,
          1.1869,
          1.1923,
          1.1869,
          1.188,
          1.1894
         ],
         "type": "candlestick",
         "x": [
          "2021-11-01T01:00:00",
          "2021-11-01T02:00:00",
          "2021-11-01T03:00:00",
          "2021-11-01T04:00:00",
          "2021-11-01T05:00:00",
          "2021-11-01T06:00:00",
          "2021-11-01T07:00:00",
          "2021-11-01T08:00:00",
          "2021-11-01T09:00:00",
          "2021-11-01T10:00:00",
          "2021-11-01T11:00:00",
          "2021-11-01T12:00:00",
          "2021-11-01T13:00:00",
          "2021-11-01T14:00:00",
          "2021-11-01T15:00:00",
          "2021-11-01T16:00:00",
          "2021-11-01T17:00:00",
          "2021-11-01T18:00:00",
          "2021-11-01T19:00:00",
          "2021-11-01T20:00:00",
          "2021-11-01T21:00:00",
          "2021-11-01T22:00:00",
          "2021-11-01T23:00:00",
          "2021-11-02T00:00:00",
          "2021-11-02T01:00:00",
          "2021-11-02T02:00:00",
          "2021-11-02T03:00:00",
          "2021-11-02T04:00:00",
          "2021-11-02T05:00:00",
          "2021-11-02T06:00:00",
          "2021-11-02T07:00:00",
          "2021-11-02T08:00:00",
          "2021-11-02T09:00:00",
          "2021-11-02T10:00:00",
          "2021-11-02T11:00:00",
          "2021-11-02T12:00:00",
          "2021-11-02T13:00:00",
          "2021-11-02T14:00:00",
          "2021-11-02T15:00:00",
          "2021-11-02T16:00:00",
          "2021-11-02T17:00:00",
          "2021-11-02T18:00:00",
          "2021-11-02T19:00:00",
          "2021-11-02T20:00:00",
          "2021-11-02T21:00:00",
          "2021-11-02T22:00:00",
          "2021-11-02T23:00:00",
          "2021-11-03T00:00:00",
          "2021-11-03T01:00:00",
          "2021-11-03T02:00:00",
          "2021-11-03T03:00:00",
          "2021-11-03T04:00:00",
          "2021-11-03T05:00:00",
          "2021-11-03T06:00:00",
          "2021-11-03T07:00:00",
          "2021-11-03T08:00:00",
          "2021-11-03T09:00:00",
          "2021-11-03T10:00:00",
          "2021-11-03T11:00:00",
          "2021-11-03T12:00:00",
          "2021-11-03T13:00:00",
          "2021-11-03T14:00:00",
          "2021-11-03T15:00:00",
          "2021-11-03T16:00:00",
          "2021-11-03T17:00:00",
          "2021-11-03T18:00:00",
          "2021-11-03T19:00:00",
          "2021-11-03T20:00:00",
          "2021-11-03T21:00:00",
          "2021-11-03T22:00:00",
          "2021-11-03T23:00:00",
          "2021-11-04T00:00:00",
          "2021-11-04T01:00:00",
          "2021-11-04T02:00:00",
          "2021-11-04T03:00:00",
          "2021-11-04T04:00:00",
          "2021-11-04T05:00:00",
          "2021-11-04T06:00:00",
          "2021-11-04T07:00:00",
          "2021-11-04T08:00:00",
          "2021-11-04T09:00:00",
          "2021-11-04T10:00:00",
          "2021-11-04T11:00:00",
          "2021-11-04T12:00:00",
          "2021-11-04T13:00:00",
          "2021-11-04T14:00:00",
          "2021-11-04T15:00:00",
          "2021-11-04T16:00:00",
          "2021-11-04T17:00:00",
          "2021-11-04T18:00:00",
          "2021-11-04T19:00:00",
          "2021-11-04T20:00:00",
          "2021-11-04T21:00:00",
          "2021-11-04T22:00:00",
          "2021-11-04T23:00:00",
          "2021-11-05T00:00:00",
          "2021-11-05T01:00:00",
          "2021-11-05T02:00:00",
          "2021-11-05T03:00:00",
          "2021-11-05T04:00:00",
          "2021-11-05T05:00:00",
          "2021-11-05T06:00:00",
          "2021-11-05T07:00:00",
          "2021-11-05T08:00:00",
          "2021-11-05T09:00:00",
          "2021-11-05T10:00:00",
          "2021-11-05T11:00:00",
          "2021-11-05T12:00:00",
          "2021-11-05T13:00:00",
          "2021-11-05T14:00:00",
          "2021-11-05T15:00:00",
          "2021-11-05T16:00:00",
          "2021-11-05T17:00:00",
          "2021-11-05T18:00:00",
          "2021-11-05T19:00:00",
          "2021-11-05T20:00:00",
          "2021-11-05T21:00:00",
          "2021-11-05T22:00:00",
          "2021-11-05T23:00:00",
          "2021-11-06T00:00:00",
          "2021-11-06T01:00:00",
          "2021-11-06T02:00:00",
          "2021-11-06T03:00:00",
          "2021-11-06T04:00:00",
          "2021-11-06T05:00:00",
          "2021-11-06T06:00:00",
          "2021-11-06T07:00:00",
          "2021-11-06T08:00:00",
          "2021-11-06T09:00:00",
          "2021-11-06T10:00:00",
          "2021-11-06T11:00:00",
          "2021-11-06T12:00:00",
          "2021-11-06T13:00:00",
          "2021-11-06T14:00:00",
          "2021-11-06T15:00:00",
          "2021-11-06T16:00:00",
          "2021-11-06T17:00:00",
          "2021-11-06T18:00:00",
          "2021-11-06T19:00:00",
          "2021-11-06T20:00:00",
          "2021-11-06T21:00:00",
          "2021-11-06T22:00:00",
          "2021-11-06T23:00:00",
          "2021-11-07T00:00:00",
          "2021-11-07T01:00:00",
          "2021-11-07T02:00:00",
          "2021-11-07T03:00:00",
          "2021-11-07T04:00:00",
          "2021-11-07T05:00:00",
          "2021-11-07T06:00:00",
          "2021-11-07T07:00:00",
          "2021-11-07T08:00:00",
          "2021-11-07T09:00:00",
          "2021-11-07T10:00:00",
          "2021-11-07T11:00:00",
          "2021-11-07T12:00:00",
          "2021-11-07T13:00:00",
          "2021-11-07T14:00:00",
          "2021-11-07T15:00:00",
          "2021-11-07T16:00:00",
          "2021-11-07T17:00:00",
          "2021-11-07T18:00:00",
          "2021-11-07T19:00:00",
          "2021-11-07T20:00:00",
          "2021-11-07T21:00:00",
          "2021-11-07T22:00:00",
          "2021-11-07T23:00:00",
          "2021-11-08T00:00:00",
          "2021-11-08T01:00:00",
          "2021-11-08T02:00:00",
          "2021-11-08T03:00:00",
          "2021-11-08T04:00:00",
          "2021-11-08T05:00:00",
          "2021-11-08T06:00:00",
          "2021-11-08T07:00:00",
          "2021-11-08T08:00:00",
          "2021-11-08T09:00:00",
          "2021-11-08T10:00:00",
          "2021-11-08T11:00:00",
          "2021-11-08T12:00:00",
          "2021-11-08T13:00:00",
          "2021-11-08T14:00:00",
          "2021-11-08T15:00:00",
          "2021-11-08T16:00:00",
          "2021-11-08T17:00:00",
          "2021-11-08T18:00:00",
          "2021-11-08T19:00:00",
          "2021-11-08T20:00:00",
          "2021-11-08T21:00:00",
          "2021-11-08T22:00:00",
          "2021-11-08T23:00:00",
          "2021-11-09T00:00:00",
          "2021-11-09T01:00:00",
          "2021-11-09T02:00:00",
          "2021-11-09T03:00:00",
          "2021-11-09T04:00:00",
          "2021-11-09T05:00:00",
          "2021-11-09T06:00:00",
          "2021-11-09T07:00:00",
          "2021-11-09T08:00:00",
          "2021-11-09T09:00:00",
          "2021-11-09T10:00:00",
          "2021-11-09T11:00:00",
          "2021-11-09T12:00:00",
          "2021-11-09T13:00:00",
          "2021-11-09T14:00:00",
          "2021-11-09T15:00:00",
          "2021-11-09T16:00:00",
          "2021-11-09T17:00:00",
          "2021-11-09T18:00:00",
          "2021-11-09T19:00:00",
          "2021-11-09T20:00:00",
          "2021-11-09T21:00:00",
          "2021-11-09T22:00:00",
          "2021-11-09T23:00:00",
          "2021-11-10T00:00:00",
          "2021-11-10T01:00:00",
          "2021-11-10T02:00:00",
          "2021-11-10T03:00:00",
          "2021-11-10T04:00:00",
          "2021-11-10T05:00:00",
          "2021-11-10T06:00:00",
          "2021-11-10T07:00:00",
          "2021-11-10T08:00:00",
          "2021-11-10T09:00:00",
          "2021-11-10T10:00:00",
          "2021-11-10T11:00:00",
          "2021-11-10T12:00:00",
          "2021-11-10T13:00:00",
          "2021-11-10T14:00:00",
          "2021-11-10T15:00:00",
          "2021-11-10T16:00:00",
          "2021-11-10T17:00:00",
          "2021-11-10T18:00:00",
          "2021-11-10T19:00:00",
          "2021-11-10T20:00:00",
          "2021-11-10T21:00:00",
          "2021-11-10T22:00:00",
          "2021-11-10T23:00:00",
          "2021-11-11T00:00:00",
          "2021-11-11T01:00:00",
          "2021-11-11T02:00:00",
          "2021-11-11T03:00:00",
          "2021-11-11T04:00:00",
          "2021-11-11T05:00:00",
          "2021-11-11T06:00:00",
          "2021-11-11T07:00:00",
          "2021-11-11T08:00:00",
          "2021-11-11T09:00:00",
          "2021-11-11T10:00:00",
          "2021-11-11T11:00:00",
          "2021-11-11T12:00:00",
          "2021-11-11T13:00:00",
          "2021-11-11T14:00:00",
          "2021-11-11T15:00:00",
          "2021-11-11T16:00:00",
          "2021-11-11T17:00:00",
          "2021-11-11T18:00:00",
          "2021-11-11T19:00:00",
          "2021-11-11T20:00:00",
          "2021-11-11T21:00:00",
          "2021-11-11T22:00:00",
          "2021-11-11T23:00:00",
          "2021-11-12T00:00:00",
          "2021-11-12T01:00:00",
          "2021-11-12T02:00:00",
          "2021-11-12T03:00:00",
          "2021-11-12T04:00:00",
          "2021-11-12T05:00:00",
          "2021-11-12T06:00:00",
          "2021-11-12T07:00:00",
          "2021-11-12T08:00:00",
          "2021-11-12T09:00:00",
          "2021-11-12T10:00:00",
          "2021-11-12T11:00:00",
          "2021-11-12T12:00:00",
          "2021-11-12T13:00:00",
          "2021-11-12T14:00:00",
          "2021-11-12T15:00:00",
          "2021-11-12T16:00:00",
          "2021-11-12T17:00:00",
          "2021-11-12T18:00:00",
          "2021-11-12T19:00:00",
          "2021-11-12T20:00:00",
          "2021-11-12T21:00:00",
          "2021-11-12T22:00:00",
          "2021-11-12T23:00:00",
          "2021-11-13T00:00:00",
          "2021-11-13T01:00:00",
          "2021-11-13T02:00:00",
          "2021-11-13T03:00:00",
          "2021-11-13T04:00:00",
          "2021-11-13T05:00:00",
          "2021-11-13T06:00:00",
          "2021-11-13T07:00:00",
          "2021-11-13T08:00:00",
          "2021-11-13T09:00:00",
          "2021-11-13T10:00:00",
          "2021-11-13T11:00:00",
          "2021-11-13T12:00:00",
          "2021-11-13T13:00:00",
          "2021-11-13T14:00:00",
          "2021-11-13T15:00:00",
          "2021-11-13T16:00:00",
          "2021-11-13T17:00:00",
          "2021-11-13T18:00:00",
          "2021-11-13T19:00:00",
          "2021-11-13T20:00:00",
          "2021-11-13T21:00:00",
          "2021-11-13T22:00:00",
          "2021-11-13T23:00:00",
          "2021-11-14T00:00:00",
          "2021-11-14T01:00:00"
         ]
        }
       ],
       "layout": {
        "template": {
         "data": {
          "bar": [
           {
            "error_x": {
             "color": "#2a3f5f"
            },
            "error_y": {
             "color": "#2a3f5f"
            },
            "marker": {
             "line": {
              "color": "#E5ECF6",
              "width": 0.5
             },
             "pattern": {
              "fillmode": "overlay",
              "size": 10,
              "solidity": 0.2
             }
            },
            "type": "bar"
           }
          ],
          "barpolar": [
           {
            "marker": {
             "line": {
              "color": "#E5ECF6",
              "width": 0.5
             },
             "pattern": {
              "fillmode": "overlay",
              "size": 10,
              "solidity": 0.2
             }
            },
            "type": "barpolar"
           }
          ],
          "carpet": [
           {
            "aaxis": {
             "endlinecolor": "#2a3f5f",
             "gridcolor": "white",
             "linecolor": "white",
             "minorgridcolor": "white",
             "startlinecolor": "#2a3f5f"
            },
            "baxis": {
             "endlinecolor": "#2a3f5f",
             "gridcolor": "white",
             "linecolor": "white",
             "minorgridcolor": "white",
             "startlinecolor": "#2a3f5f"
            },
            "type": "carpet"
           }
          ],
          "choropleth": [
           {
            "colorbar": {
             "outlinewidth": 0,
             "ticks": ""
            },
            "type": "choropleth"
           }
          ],
          "contour": [
           {
            "colorbar": {
             "outlinewidth": 0,
             "ticks": ""
            },
            "colorscale": [
             [
              0,
              "#0d0887"
             ],
             [
              0.1111111111111111,
              "#46039f"
             ],
             [
              0.2222222222222222,
              "#7201a8"
             ],
             [
              0.3333333333333333,
              "#9c179e"
             ],
             [
              0.4444444444444444,
              "#bd3786"
             ],
             [
              0.5555555555555556,
              "#d8576b"
             ],
             [
              0.6666666666666666,
              "#ed7953"
             ],
             [
              0.7777777777777778,
              "#fb9f3a"
             ],
             [
              0.8888888888888888,
              "#fdca26"
             ],
             [
              1,
              "#f0f921"
             ]
            ],
            "type": "contour"
           }
          ],
          "contourcarpet": [
           {
            "colorbar": {
             "outlinewidth": 0,
             "ticks": ""
            },
            "type": "contourcarpet"
           }
          ],
          "heatmap": [
           {
            "colorbar": {
             "outlinewidth": 0,
             "ticks": ""
            },
            "colorscale": [
             [
              0,
              "#0d0887"
             ],
             [
              0.1111111111111111,
              "#46039f"
             ],
             [
              0.2222222222222222,
              "#7201a8"
             ],
             [
              0.3333333333333333,
              "#9c179e"
             ],
             [
              0.4444444444444444,
              "#bd3786"
             ],
             [
              0.5555555555555556,
              "#d8576b"
             ],
             [
              0.6666666666666666,
              "#ed7953"
             ],
             [
              0.7777777777777778,
              "#fb9f3a"
             ],
             [
              0.8888888888888888,
              "#fdca26"
             ],
             [
              1,
              "#f0f921"
             ]
            ],
            "type": "heatmap"
           }
          ],
          "heatmapgl": [
           {
            "colorbar": {
             "outlinewidth": 0,
             "ticks": ""
            },
            "colorscale": [
             [
              0,
              "#0d0887"
             ],
             [
              0.1111111111111111,
              "#46039f"
             ],
             [
              0.2222222222222222,
              "#7201a8"
             ],
             [
              0.3333333333333333,
              "#9c179e"
             ],
             [
              0.4444444444444444,
              "#bd3786"
             ],
             [
              0.5555555555555556,
              "#d8576b"
             ],
             [
              0.6666666666666666,
              "#ed7953"
             ],
             [
              0.7777777777777778,
              "#fb9f3a"
             ],
             [
              0.8888888888888888,
              "#fdca26"
             ],
             [
              1,
              "#f0f921"
             ]
            ],
            "type": "heatmapgl"
           }
          ],
          "histogram": [
           {
            "marker": {
             "pattern": {
              "fillmode": "overlay",
              "size": 10,
              "solidity": 0.2
             }
            },
            "type": "histogram"
           }
          ],
          "histogram2d": [
           {
            "colorbar": {
             "outlinewidth": 0,
             "ticks": ""
            },
            "colorscale": [
             [
              0,
              "#0d0887"
             ],
             [
              0.1111111111111111,
              "#46039f"
             ],
             [
              0.2222222222222222,
              "#7201a8"
             ],
             [
              0.3333333333333333,
              "#9c179e"
             ],
             [
              0.4444444444444444,
              "#bd3786"
             ],
             [
              0.5555555555555556,
              "#d8576b"
             ],
             [
              0.6666666666666666,
              "#ed7953"
             ],
             [
              0.7777777777777778,
              "#fb9f3a"
             ],
             [
              0.8888888888888888,
              "#fdca26"
             ],
             [
              1,
              "#f0f921"
             ]
            ],
            "type": "histogram2d"
           }
          ],
          "histogram2dcontour": [
           {
            "colorbar": {
             "outlinewidth": 0,
             "ticks": ""
            },
            "colorscale": [
             [
              0,
              "#0d0887"
             ],
             [
              0.1111111111111111,
              "#46039f"
             ],
             [
              0.2222222222222222,
              "#7201a8"
             ],
             [
              0.3333333333333333,
              "#9c179e"
             ],
             [
              0.4444444444444444,
              "#bd3786"
             ],
             [
              0.5555555555555556,
              "#d8576b"
             ],
             [
              0.6666666666666666,
              "#ed7953"
             ],
             [
              0.7777777777777778,
              "#fb9f3a"
             ],
             [
              0.8888888888888888,
              "#fdca26"
             ],
             [
              1,
              "#f0f921"
             ]
            ],
            "type": "histogram2dcontour"
           }
          ],
          "mesh3d": [
           {
            "colorbar": {
             "outlinewidth": 0,
             "ticks": ""
            },
            "type": "mesh3d"
           }
          ],
          "parcoords": [
           {
            "line": {
             "colorbar": {
              "outlinewidth": 0,
              "ticks": ""
             }
            },
            "type": "parcoords"
           }
          ],
          "pie": [
           {
            "automargin": true,
            "type": "pie"
           }
          ],
          "scatter": [
           {
            "marker": {
             "colorbar": {
              "outlinewidth": 0,
              "ticks": ""
             }
            },
            "type": "scatter"
           }
          ],
          "scatter3d": [
           {
            "line": {
             "colorbar": {
              "outlinewidth": 0,
              "ticks": ""
             }
            },
            "marker": {
             "colorbar": {
              "outlinewidth": 0,
              "ticks": ""
             }
            },
            "type": "scatter3d"
           }
          ],
          "scattercarpet": [
           {
            "marker": {
             "colorbar": {
              "outlinewidth": 0,
              "ticks": ""
             }
            },
            "type": "scattercarpet"
           }
          ],
          "scattergeo": [
           {
            "marker": {
             "colorbar": {
              "outlinewidth": 0,
              "ticks": ""
             }
            },
            "type": "scattergeo"
           }
          ],
          "scattergl": [
           {
            "marker": {
             "colorbar": {
              "outlinewidth": 0,
              "ticks": ""
             }
            },
            "type": "scattergl"
           }
          ],
          "scattermapbox": [
           {
            "marker": {
             "colorbar": {
              "outlinewidth": 0,
              "ticks": ""
             }
            },
            "type": "scattermapbox"
           }
          ],
          "scatterpolar": [
           {
            "marker": {
             "colorbar": {
              "outlinewidth": 0,
              "ticks": ""
             }
            },
            "type": "scatterpolar"
           }
          ],
          "scatterpolargl": [
           {
            "marker": {
             "colorbar": {
              "outlinewidth": 0,
              "ticks": ""
             }
            },
            "type": "scatterpolargl"
           }
          ],
          "scatterternary": [
           {
            "marker": {
             "colorbar": {
              "outlinewidth": 0,
              "ticks": ""
             }
            },
            "type": "scatterternary"
           }
          ],
          "surface": [
           {
            "colorbar": {
             "outlinewidth": 0,
             "ticks": ""
            },
            "colorscale": [
             [
              0,
              "#0d0887"
             ],
             [
              0.1111111111111111,
              "#46039f"
             ],
             [
              0.2222222222222222,
              "#7201a8"
             ],
             [
              0.3333333333333333,
              "#9c179e"
             ],
             [
              0.4444444444444444,
              "#bd3786"
             ],
             [
              0.5555555555555556,
              "#d8576b"
             ],
             [
              0.6666666666666666,
              "#ed7953"
             ],
             [
              0.7777777777777778,
              "#fb9f3a"
             ],
             [
              0.8888888888888888,
              "#fdca26"
             ],
             [
              1,
              "#f0f921"
             ]
            ],
            "type": "surface"
           }
          ],
          "table": [
           {
            "cells": {
             "fill": {
              "color": "#EBF0F8"
             },
             "line": {
              "color": "white"
             }
            },
            "header": {
             "fill": {
              "color": "#C8D4E3"
             },
             "line": {
              "color": "white"
             }
            },
            "type": "table"
           }
          ]
         },
         "layout": {
          "annotationdefaults": {
           "arrowcolor": "#2a3f5f",
           "arrowhead": 0,
           "arrowwidth": 1
          },
          "autotypenumbers": "strict",
          "coloraxis": {
           "colorbar": {
            "outlinewidth": 0,
            "ticks": ""
           }
          },
          "colorscale": {
           "diverging": [
            [
             0,
             "#8e0152"
            ],
            [
             0.1,
             "#c51b7d"
            ],
            [
             0.2,
             "#de77ae"
            ],
            [
             0.3,
             "#f1b6da"
            ],
            [
             0.4,
             "#fde0ef"
            ],
            [
             0.5,
             "#f7f7f7"
            ],
            [
             0.6,
             "#e6f5d0"
            ],
            [
             0.7,
             "#b8e186"
            ],
            [
             0.8,
             "#7fbc41"
            ],
            [
             0.9,
             "#4d9221"
            ],
            [
             1,
             "#276419"
            ]
           ],
           "sequential": [
            [
             0,
             "#0d0887"
            ],
            [
             0.1111111111111111,
             "#46039f"
            ],
            [
             0.2222222222222222,
             "#7201a8"
            ],
            [
             0.3333333333333333,
             "#9c179e"
            ],
            [
             0.4444444444444444,
             "#bd3786"
            ],
            [
             0.5555555555555556,
             "#d8576b"
            ],
            [
             0.6666666666666666,
             "#ed7953"
            ],
            [
             0.7777777777777778,
             "#fb9f3a"
            ],
            [
             0.8888888888888888,
             "#fdca26"
            ],
            [
             1,
             "#f0f921"
            ]
           ],
           "sequentialminus": [
            [
             0,
             "#0d0887"
            ],
            [
             0.1111111111111111,
             "#46039f"
            ],
            [
             0.2222222222222222,
             "#7201a8"
            ],
            [
             0.3333333333333333,
             "#9c179e"
            ],
            [
             0.4444444444444444,
             "#bd3786"
            ],
            [
             0.5555555555555556,
             "#d8576b"
            ],
            [
             0.6666666666666666,
             "#ed7953"
            ],
            [
             0.7777777777777778,
             "#fb9f3a"
            ],
            [
             0.8888888888888888,
             "#fdca26"
            ],
            [
             1,
             "#f0f921"
            ]
           ]
          },
          "colorway": [
           "#636efa",
           "#EF553B",
           "#00cc96",
           "#ab63fa",
           "#FFA15A",
           "#19d3f3",
           "#FF6692",
           "#B6E880",
           "#FF97FF",
           "#FECB52"
          ],
          "font": {
           "color": "#2a3f5f"
          },
          "geo": {
           "bgcolor": "white",
           "lakecolor": "white",
           "landcolor": "#E5ECF6",
           "showlakes": true,
           "showland": true,
           "subunitcolor": "white"
          },
          "hoverlabel": {
           "align": "left"
          },
          "hovermode": "closest",
          "mapbox": {
           "style": "light"
          },
          "paper_bgcolor": "white",
          "plot_bgcolor": "#E5ECF6",
          "polar": {
           "angularaxis": {
            "gridcolor": "white",
            "linecolor": "white",
            "ticks": ""
           },
           "bgcolor": "#E5ECF6",
           "radialaxis": {
            "gridcolor": "white",
            "linecolor": "white",
            "ticks": ""
           }
          },
          "scene": {
           "xaxis": {
            "backgroundcolor": "#E5ECF6",
            "gridcolor": "white",
            "gridwidth": 2,
            "linecolor": "white",
            "showbackground": true,
            "ticks": "",
            "zerolinecolor": "white"
           },
           "yaxis": {
            "backgroundcolor": "#E5ECF6",
            "gridcolor": "white",
            "gridwidth": 2,
            "linecolor": "white",
            "showbackground": true,
            "ticks": "",
            "zerolinecolor": "white"
           },
           "zaxis": {
            "backgroundcolor": "#E5ECF6",
            "gridcolor": "white",
            "gridwidth": 2,
            "linecolor": "white",
            "showbackground": true,
            "ticks": "",
            "zerolinecolor": "white"
           }
          },
          "shapedefaults": {
           "line": {
            "color": "#2a3f5f"
           }
          },
          "ternary": {
           "aaxis": {
            "gridcolor": "white",
            "linecolor": "white",
            "ticks": ""
           },
           "baxis": {
            "gridcolor": "white",
            "linecolor": "white",
            "ticks": ""
           },
           "bgcolor": "#E5ECF6",
           "caxis": {
            "gridcolor": "white",
            "linecolor": "white",
            "ticks": ""
           }
          },
          "title": {
           "x": 0.05
          },
          "xaxis": {
           "automargin": true,
           "gridcolor": "white",
           "linecolor": "white",
           "ticks": "",
           "title": {
            "standoff": 15
           },
           "zerolinecolor": "white",
           "zerolinewidth": 2
          },
          "yaxis": {
           "automargin": true,
           "gridcolor": "white",
           "linecolor": "white",
           "ticks": "",
           "title": {
            "standoff": 15
           },
           "zerolinecolor": "white",
           "zerolinewidth": 2
          }
         }
        }
       }
      }
     },
     "metadata": {},
     "output_type": "display_data"
    }
   ],
   "source": [
    "showChart()"
   ]
  },
  {
   "cell_type": "markdown",
   "metadata": {},
   "source": [
    "- ### Run strategy"
   ]
  },
  {
   "cell_type": "code",
   "execution_count": 19,
   "metadata": {},
   "outputs": [
    {
     "ename": "KeyError",
     "evalue": "'BTC_lower_band'",
     "output_type": "error",
     "traceback": [
      "\u001b[1;31m---------------------------------------------------------------------------\u001b[0m",
      "\u001b[1;31mKeyError\u001b[0m                                  Traceback (most recent call last)",
      "\u001b[1;32m~\\AppData\\Local\\Packages\\PythonSoftwareFoundation.Python.3.9_qbz5n2kfra8p0\\LocalCache\\local-packages\\Python39\\site-packages\\pandas\\core\\indexes\\base.py\u001b[0m in \u001b[0;36mget_loc\u001b[1;34m(self, key, method, tolerance)\u001b[0m\n\u001b[0;32m   3360\u001b[0m             \u001b[1;32mtry\u001b[0m\u001b[1;33m:\u001b[0m\u001b[1;33m\u001b[0m\u001b[1;33m\u001b[0m\u001b[0m\n\u001b[1;32m-> 3361\u001b[1;33m                 \u001b[1;32mreturn\u001b[0m \u001b[0mself\u001b[0m\u001b[1;33m.\u001b[0m\u001b[0m_engine\u001b[0m\u001b[1;33m.\u001b[0m\u001b[0mget_loc\u001b[0m\u001b[1;33m(\u001b[0m\u001b[0mcasted_key\u001b[0m\u001b[1;33m)\u001b[0m\u001b[1;33m\u001b[0m\u001b[1;33m\u001b[0m\u001b[0m\n\u001b[0m\u001b[0;32m   3362\u001b[0m             \u001b[1;32mexcept\u001b[0m \u001b[0mKeyError\u001b[0m \u001b[1;32mas\u001b[0m \u001b[0merr\u001b[0m\u001b[1;33m:\u001b[0m\u001b[1;33m\u001b[0m\u001b[1;33m\u001b[0m\u001b[0m\n",
      "\u001b[1;32m~\\AppData\\Local\\Packages\\PythonSoftwareFoundation.Python.3.9_qbz5n2kfra8p0\\LocalCache\\local-packages\\Python39\\site-packages\\pandas\\_libs\\index.pyx\u001b[0m in \u001b[0;36mpandas._libs.index.IndexEngine.get_loc\u001b[1;34m()\u001b[0m\n",
      "\u001b[1;32m~\\AppData\\Local\\Packages\\PythonSoftwareFoundation.Python.3.9_qbz5n2kfra8p0\\LocalCache\\local-packages\\Python39\\site-packages\\pandas\\_libs\\index.pyx\u001b[0m in \u001b[0;36mpandas._libs.index.IndexEngine.get_loc\u001b[1;34m()\u001b[0m\n",
      "\u001b[1;32mpandas\\_libs\\hashtable_class_helper.pxi\u001b[0m in \u001b[0;36mpandas._libs.hashtable.PyObjectHashTable.get_item\u001b[1;34m()\u001b[0m\n",
      "\u001b[1;32mpandas\\_libs\\hashtable_class_helper.pxi\u001b[0m in \u001b[0;36mpandas._libs.hashtable.PyObjectHashTable.get_item\u001b[1;34m()\u001b[0m\n",
      "\u001b[1;31mKeyError\u001b[0m: 'BTC_lower_band'",
      "\nThe above exception was the direct cause of the following exception:\n",
      "\u001b[1;31mKeyError\u001b[0m                                  Traceback (most recent call last)",
      "\u001b[1;32m~\\AppData\\Local\\Temp/ipykernel_20780/3361458916.py\u001b[0m in \u001b[0;36m<module>\u001b[1;34m\u001b[0m\n\u001b[0;32m      5\u001b[0m     \u001b[1;32mif\u001b[0m \u001b[0menv\u001b[0m\u001b[1;33m.\u001b[0m\u001b[0mbalance_unit\u001b[0m \u001b[1;33m==\u001b[0m \u001b[1;34m'USDT'\u001b[0m\u001b[1;33m:\u001b[0m \u001b[1;31m# --> BUY\u001b[0m\u001b[1;33m\u001b[0m\u001b[1;33m\u001b[0m\u001b[0m\n\u001b[0;32m      6\u001b[0m         \u001b[1;32mfor\u001b[0m \u001b[0mcoin\u001b[0m \u001b[1;32min\u001b[0m \u001b[0mcoins\u001b[0m\u001b[1;33m:\u001b[0m\u001b[1;33m\u001b[0m\u001b[1;33m\u001b[0m\u001b[0m\n\u001b[1;32m----> 7\u001b[1;33m             \u001b[1;32mif\u001b[0m \u001b[0mdf\u001b[0m\u001b[1;33m[\u001b[0m\u001b[1;34mf'{coin}/USDT_Low'\u001b[0m\u001b[1;33m]\u001b[0m\u001b[1;33m.\u001b[0m\u001b[0miloc\u001b[0m\u001b[1;33m[\u001b[0m\u001b[0mi\u001b[0m\u001b[1;33m]\u001b[0m \u001b[1;33m<\u001b[0m \u001b[0mdf\u001b[0m\u001b[1;33m[\u001b[0m\u001b[1;34mf'{coin}_lower_band'\u001b[0m\u001b[1;33m]\u001b[0m\u001b[1;33m.\u001b[0m\u001b[0miloc\u001b[0m\u001b[1;33m[\u001b[0m\u001b[0mi\u001b[0m\u001b[1;33m]\u001b[0m\u001b[1;33m:\u001b[0m \u001b[1;31m# --> BUY SIGNAL\u001b[0m\u001b[1;33m\u001b[0m\u001b[1;33m\u001b[0m\u001b[0m\n\u001b[0m\u001b[0;32m      8\u001b[0m                 \u001b[0menv\u001b[0m\u001b[1;33m.\u001b[0m\u001b[0mbuy\u001b[0m\u001b[1;33m(\u001b[0m\u001b[0mcoin\u001b[0m\u001b[1;33m,\u001b[0m \u001b[0mdf\u001b[0m\u001b[1;33m[\u001b[0m\u001b[1;34mf'{coin}_lower_band'\u001b[0m\u001b[1;33m]\u001b[0m\u001b[1;33m.\u001b[0m\u001b[0miloc\u001b[0m\u001b[1;33m[\u001b[0m\u001b[0mi\u001b[0m\u001b[1;33m]\u001b[0m\u001b[1;33m,\u001b[0m \u001b[0mdf\u001b[0m\u001b[1;33m[\u001b[0m\u001b[1;34m'OpenTime'\u001b[0m\u001b[1;33m]\u001b[0m\u001b[1;33m.\u001b[0m\u001b[0miloc\u001b[0m\u001b[1;33m[\u001b[0m\u001b[0mi\u001b[0m\u001b[1;33m]\u001b[0m\u001b[1;33m)\u001b[0m\u001b[1;33m\u001b[0m\u001b[1;33m\u001b[0m\u001b[0m\n\u001b[0;32m      9\u001b[0m                 \u001b[1;32mbreak\u001b[0m\u001b[1;33m\u001b[0m\u001b[1;33m\u001b[0m\u001b[0m\n",
      "\u001b[1;32m~\\AppData\\Local\\Packages\\PythonSoftwareFoundation.Python.3.9_qbz5n2kfra8p0\\LocalCache\\local-packages\\Python39\\site-packages\\pandas\\core\\frame.py\u001b[0m in \u001b[0;36m__getitem__\u001b[1;34m(self, key)\u001b[0m\n\u001b[0;32m   3456\u001b[0m             \u001b[1;32mif\u001b[0m \u001b[0mself\u001b[0m\u001b[1;33m.\u001b[0m\u001b[0mcolumns\u001b[0m\u001b[1;33m.\u001b[0m\u001b[0mnlevels\u001b[0m \u001b[1;33m>\u001b[0m \u001b[1;36m1\u001b[0m\u001b[1;33m:\u001b[0m\u001b[1;33m\u001b[0m\u001b[1;33m\u001b[0m\u001b[0m\n\u001b[0;32m   3457\u001b[0m                 \u001b[1;32mreturn\u001b[0m \u001b[0mself\u001b[0m\u001b[1;33m.\u001b[0m\u001b[0m_getitem_multilevel\u001b[0m\u001b[1;33m(\u001b[0m\u001b[0mkey\u001b[0m\u001b[1;33m)\u001b[0m\u001b[1;33m\u001b[0m\u001b[1;33m\u001b[0m\u001b[0m\n\u001b[1;32m-> 3458\u001b[1;33m             \u001b[0mindexer\u001b[0m \u001b[1;33m=\u001b[0m \u001b[0mself\u001b[0m\u001b[1;33m.\u001b[0m\u001b[0mcolumns\u001b[0m\u001b[1;33m.\u001b[0m\u001b[0mget_loc\u001b[0m\u001b[1;33m(\u001b[0m\u001b[0mkey\u001b[0m\u001b[1;33m)\u001b[0m\u001b[1;33m\u001b[0m\u001b[1;33m\u001b[0m\u001b[0m\n\u001b[0m\u001b[0;32m   3459\u001b[0m             \u001b[1;32mif\u001b[0m \u001b[0mis_integer\u001b[0m\u001b[1;33m(\u001b[0m\u001b[0mindexer\u001b[0m\u001b[1;33m)\u001b[0m\u001b[1;33m:\u001b[0m\u001b[1;33m\u001b[0m\u001b[1;33m\u001b[0m\u001b[0m\n\u001b[0;32m   3460\u001b[0m                 \u001b[0mindexer\u001b[0m \u001b[1;33m=\u001b[0m \u001b[1;33m[\u001b[0m\u001b[0mindexer\u001b[0m\u001b[1;33m]\u001b[0m\u001b[1;33m\u001b[0m\u001b[1;33m\u001b[0m\u001b[0m\n",
      "\u001b[1;32m~\\AppData\\Local\\Packages\\PythonSoftwareFoundation.Python.3.9_qbz5n2kfra8p0\\LocalCache\\local-packages\\Python39\\site-packages\\pandas\\core\\indexes\\base.py\u001b[0m in \u001b[0;36mget_loc\u001b[1;34m(self, key, method, tolerance)\u001b[0m\n\u001b[0;32m   3361\u001b[0m                 \u001b[1;32mreturn\u001b[0m \u001b[0mself\u001b[0m\u001b[1;33m.\u001b[0m\u001b[0m_engine\u001b[0m\u001b[1;33m.\u001b[0m\u001b[0mget_loc\u001b[0m\u001b[1;33m(\u001b[0m\u001b[0mcasted_key\u001b[0m\u001b[1;33m)\u001b[0m\u001b[1;33m\u001b[0m\u001b[1;33m\u001b[0m\u001b[0m\n\u001b[0;32m   3362\u001b[0m             \u001b[1;32mexcept\u001b[0m \u001b[0mKeyError\u001b[0m \u001b[1;32mas\u001b[0m \u001b[0merr\u001b[0m\u001b[1;33m:\u001b[0m\u001b[1;33m\u001b[0m\u001b[1;33m\u001b[0m\u001b[0m\n\u001b[1;32m-> 3363\u001b[1;33m                 \u001b[1;32mraise\u001b[0m \u001b[0mKeyError\u001b[0m\u001b[1;33m(\u001b[0m\u001b[0mkey\u001b[0m\u001b[1;33m)\u001b[0m \u001b[1;32mfrom\u001b[0m \u001b[0merr\u001b[0m\u001b[1;33m\u001b[0m\u001b[1;33m\u001b[0m\u001b[0m\n\u001b[0m\u001b[0;32m   3364\u001b[0m \u001b[1;33m\u001b[0m\u001b[0m\n\u001b[0;32m   3365\u001b[0m         \u001b[1;32mif\u001b[0m \u001b[0mis_scalar\u001b[0m\u001b[1;33m(\u001b[0m\u001b[0mkey\u001b[0m\u001b[1;33m)\u001b[0m \u001b[1;32mand\u001b[0m \u001b[0misna\u001b[0m\u001b[1;33m(\u001b[0m\u001b[0mkey\u001b[0m\u001b[1;33m)\u001b[0m \u001b[1;32mand\u001b[0m \u001b[1;32mnot\u001b[0m \u001b[0mself\u001b[0m\u001b[1;33m.\u001b[0m\u001b[0mhasnans\u001b[0m\u001b[1;33m:\u001b[0m\u001b[1;33m\u001b[0m\u001b[1;33m\u001b[0m\u001b[0m\n",
      "\u001b[1;31mKeyError\u001b[0m: 'BTC_lower_band'"
     ]
    }
   ],
   "source": [
    "env = TradingEnv(balance_amount=100, balance_unit='USDT', trading_fee_multiplier=0.99925)\n",
    "\n",
    "# The buy/sell conditional\n",
    "for i in range(len(df)):\n",
    "    if env.balance_unit == 'USDT': # --> BUY\n",
    "        for coin in coins:\n",
    "            if df[f'{coin}/USDT_Low'].iloc[i] < df[f'{coin}_lower_band'].iloc[i]: # --> BUY SIGNAL\n",
    "                env.buy(coin, df[f'{coin}_lower_band'].iloc[i], df['OpenTime'].iloc[i])\n",
    "                break\n",
    "\n",
    "    if env.balance_unit != 'USDT': # --> SELL\n",
    "        if df[f'{env.balance_unit}/USDT_High'].iloc[i] > df[f'{env.balance_unit}_upper_band'].iloc[i]: # --> SELL SIGNAL\n",
    "            env.sell(df[f'{env.balance_unit}_upper_band'].iloc[i], df['OpenTime'].iloc[i])\n",
    "\n",
    "if env.balance_unit != 'USDT':\n",
    "    env.sell(df[f'{env.balance_unit}_upper_band'].iloc[-1], df['OpenTime'].iloc[-1])"
   ]
  },
  {
   "cell_type": "code",
   "execution_count": 13,
   "metadata": {},
   "outputs": [
    {
     "name": "stdout",
     "output_type": "stream",
     "text": [
      "num buys: 1\n",
      " num sells: 1 ending balance: 102.44324894140607 USDT\n"
     ]
    }
   ],
   "source": [
    "print(f'num buys: {len(env.buys)}\\n',\n",
    "      f'num sells: {len(env.sells)}',\n",
    "      f'ending balance: {env.balance_amount} {env.balance_unit}')"
   ]
  },
  {
   "cell_type": "markdown",
   "metadata": {},
   "source": [
    "---"
   ]
  },
  {
   "cell_type": "markdown",
   "metadata": {},
   "source": [
    "----\n",
    "----\n",
    "# Temp Functions >>>"
   ]
  },
  {
   "cell_type": "markdown",
   "metadata": {},
   "source": [
    "## find outliers"
   ]
  },
  {
   "cell_type": "code",
   "execution_count": null,
   "metadata": {},
   "outputs": [],
   "source": [
    "# Find outliers\n",
    "from statistics import stdev\n",
    "\n",
    "stdev = stdev(df['BTC/USDT_High'])\n",
    "\n",
    "for i, val in enumerate(df['BTC/USDT_High']):\n",
    "    lastval = df['BTC/USDT_High'].iloc[i-1]\n",
    "    if abs(val-lastval) > stdev*12:\n",
    "        print(f\"{val} @{i} exceeding stdev\")"
   ]
  },
  {
   "cell_type": "code",
   "execution_count": null,
   "metadata": {},
   "outputs": [],
   "source": [
    "# PROGRESS BAR\n",
    "from time import sleep\n",
    "import sys\n",
    "for i in range(21):\n",
    "    sys.stdout.write('\\r')\n",
    "    # the exact output we're looking for:\n",
    "    sys.stdout.write(\"[%-20s] %d%%\" % ('='*i,5*i))\n",
    "    sys.stdout.flush()\n",
    "    sleep(0.25)"
   ]
  }
 ],
 "metadata": {
  "interpreter": {
   "hash": "2a1904303c90cccb35e16e9c4e7eb88aa52dee32e5565f147738df42e1ed4954"
  },
  "kernelspec": {
   "display_name": "Python 3 (ipykernel)",
   "language": "python",
   "name": "python3"
  },
  "language_info": {
   "codemirror_mode": {
    "name": "ipython",
    "version": 3
   },
   "file_extension": ".py",
   "mimetype": "text/x-python",
   "name": "python",
   "nbconvert_exporter": "python",
   "pygments_lexer": "ipython3",
   "version": "3.9.8"
  }
 },
 "nbformat": 4,
 "nbformat_minor": 4
}
