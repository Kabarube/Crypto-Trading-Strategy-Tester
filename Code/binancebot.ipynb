{
 "cells": [
  {
   "cell_type": "markdown",
   "metadata": {},
   "source": [
    "----\n",
    "# **`B`i`N`a`N`a** - **`{Binance Trading Bot}`**\n",
    "----"
   ]
  },
  {
   "cell_type": "markdown",
   "metadata": {},
   "source": [
    "## **#1 - Import and initialization of necessary objects**\n",
    "- ### Connect to the binance API - **`Required`**"
   ]
  },
  {
   "cell_type": "code",
   "execution_count": 1,
   "metadata": {},
   "outputs": [
    {
     "name": "stdout",
     "output_type": "stream",
     "text": [
      "\n",
      "Client: [client] successfy connected to [https://api.binance.com/api]\n",
      "Server Time: 2021-11-16 09:14:06\n",
      "API: v1\n"
     ]
    }
   ],
   "source": [
    "\"\"\" #1 - CODE >>>>>>\n",
    "\"\"\"\n",
    "import sys\n",
    "import plotly.graph_objects as go\n",
    "import pandas as pd\n",
    "from binance.client import Client\n",
    "from time import sleep\n",
    "from datetime import datetime\n",
    "\n",
    "api_key = \"GTX9gXFumeoGthX0eYY3tv3jXnt8yq6BfBkyQ2Tc2tKiqjEoGmiQrcMluw6Qa7os\"\n",
    "api_secret = \"ANnbpbGVhwYEBcTyLsbmBRj9rTyg1RwYj4NaX6RZS63DbSSiCcNRbOJdAjJaFvkZ\"\n",
    "\n",
    "# CONNECT CLIENT >>\n",
    "client = Client(api_key, api_secret, testnet=False)\n",
    "if client is not None:\n",
    "    print(f\"\\nClient: [client] successfy connected to [{client.API_URL}]\")\n",
    "    print(f\"Server Time: {datetime.fromtimestamp(int(client.get_server_time().get('serverTime')/1000))}\")\n",
    "    print(f\"API: {client.PUBLIC_API_VERSION}\")\n",
    "else:\n",
    "    print(\"Unable to connect to Binance API server\")"
   ]
  },
  {
   "cell_type": "markdown",
   "metadata": {},
   "source": [
    "----\n",
    "##  **#2 - Collect Data**\n",
    "- ### Get and structure data in Pandas DataFrame() - **`Required`**"
   ]
  },
  {
   "cell_type": "code",
   "execution_count": 3,
   "metadata": {},
   "outputs": [
    {
     "name": "stdout",
     "output_type": "stream",
     "text": [
      "[                    ] 0% Gathering BTC...\n",
      "[======              ] 28% Gathering ETH...\n",
      "[=============       ] 61% Gathering XRP...\n",
      "[====================] 95% Dataset downloaded successfully!\n",
      "[====================] 100% DataFrame:'df' ready for deployment!"
     ]
    }
   ],
   "source": [
    "\"\"\" #2 - RUN DATA COLLECTOR >>>>>>\n",
    "\"\"\"\n",
    "#TODO lage et lite api av progressbar funksjonene\n",
    "\n",
    "coins = ['BTC', 'ETH', 'XRP']       # Specify which currency to include in data collection\n",
    "\n",
    "# ------------------------------>\n",
    "# MAIN REQUEST LOOP ---------->\n",
    "for i, coin in enumerate(coins):\n",
    "    if not i: sys.stdout.write(\"[%-20s] %d%%\" % ('='*0, 30*i))  #Progress bar\n",
    "    print(f' Gathering {coin}...')\n",
    "    start_str = 'Nov 1, 2021' #'2021-10-01' #'Oct 1, 2021' \n",
    "    end_str = 'Nov 14, 2021'#'2021-11-01' #'Nov 1, 2021'\n",
    "    klines = client.get_historical_klines(\n",
    "        symbol=f'{coin}USDT',\n",
    "        interval=client.KLINE_INTERVAL_1HOUR,\n",
    "        start_str=start_str,\n",
    "        end_str=end_str)\n",
    "    \n",
    "    # PROGRESS BAR PROGRESSING ---->\n",
    "    currentbar = (i+1)*7\n",
    "    lastbar = i*7\n",
    "    barPercent = float(currentbar/21)\n",
    "    for nbar in range(lastbar, currentbar):\n",
    "        sys.stdout.write('\\r')\n",
    "        sys.stdout.write(\"[%-20s] %d%%\" % ('='*nbar, (nbar/currentbar)*100*barPercent))\n",
    "        sys.stdout.flush()\n",
    "        sleep(0.04)\n",
    "\n",
    "    # Create column name list for corresponding data\n",
    "    cols = ['OpenTime',\n",
    "            f'{coin}/USDT_Open',\n",
    "            f'{coin}/USDT_High',\n",
    "            f'{coin}/USDT_Low',\n",
    "            f'{coin}/USDT_Close',\n",
    "            f'{coin}/USDT_Volume',\n",
    "            'CloseTime',\n",
    "            f'{coin}-QuoteAssetVolume',\n",
    "            f'{coin}-NumberOfTrades',\n",
    "            f'{coin}-TBBAV',\n",
    "            f'{coin}-TBQAV',\n",
    "            f'{coin}-ignore',]\n",
    "    coin_df = pd.DataFrame(klines,columns=cols)\n",
    "    \n",
    "    # Merge data to a single DataFrame\n",
    "    df = coin_df if i <= 0 else pd.merge(df, coin_df, how='inner', on=['OpenTime', 'CloseTime'])\n",
    "\n",
    "    # Confirm download success and update progress bar\n",
    "    if i >= len(coins)-1:\n",
    "        sys.stdout.write(f\" Dataset downloaded successfully!\\n\")\n",
    "    \n",
    "    # Prevent API max request\n",
    "    sleep(1)\n",
    "\n",
    "# Convert raw timedata to datedime format\n",
    "df['OpenTime'] = [datetime.fromtimestamp(ts / 1000) for ts in df['OpenTime']]\n",
    "df['CloseTime'] = [datetime.fromtimestamp(ts / 1000) for ts in df['CloseTime']]\n",
    "for col in df.columns:\n",
    "    if not 'Time' in col:\n",
    "        df[col] = df[col].astype(float)\n",
    "\n",
    "# Progress bar >    # TODO - Animate progressbar at 100%   \n",
    "if i >= len(coins)-1:       \n",
    "    sys.stdout.write(f\"[====================] {100}% DataFrame:'df' ready for deployment!\")\n",
    "else:\n",
    "    sys.stdout.write('\\r')\n",
    "    sys.stdout.write(\"[%-20s] %d%%\" % ('='*(i+1)*7, 30*(i+1)))\n",
    "    sys.stdout.flush()\n"
   ]
  },
  {
   "cell_type": "markdown",
   "metadata": {},
   "source": [
    "----\n",
    "## **#3 - Plot Data**\n",
    "### **showChart()** - Plot dataframe with Plotly - **`Required`**"
   ]
  },
  {
   "cell_type": "code",
   "execution_count": 4,
   "metadata": {},
   "outputs": [],
   "source": [
    "## Plot\n",
    "def showChart():\n",
    "    for coin in coins:\n",
    "        fig = go.Figure(data=[go.Candlestick(x=df['OpenTime'],\n",
    "                                            open=df[f'{coin}/USDT_Open'],\n",
    "                                            high=df[f'{coin}/USDT_High'],\n",
    "                                            low=df[f'{coin}/USDT_Low'],\n",
    "                                            close=df[f'{coin}/USDT_Close']\n",
    "                                            )])\n",
    "        fig.show()\n",
    "        go.Figure.add_indicator()"
   ]
  },
  {
   "cell_type": "markdown",
   "metadata": {},
   "source": [
    "----\n",
    "## **#4 - Indicators**\n",
    "- ### Initialize indicators - **`Required`**"
   ]
  },
  {
   "cell_type": "code",
   "execution_count": 6,
   "metadata": {},
   "outputs": [],
   "source": [
    "# Simple Moving Average\n",
    "def sma(data, window):\n",
    "   return(data.rolling(window=window).mean())\n",
    "\n",
    "# Bollinger Bands\n",
    "def bollinger_band(data, sma, window, nstd):\n",
    "    std = data.rolling(window = window).std()\n",
    "    upper_band = sma + std * nstd\n",
    "    lower_band = sma - std * nstd\n",
    "    \n",
    "    return upper_band, lower_band"
   ]
  },
  {
   "cell_type": "markdown",
   "metadata": {},
   "source": [
    "### Add indicators to DataFrame -> - **`Required`**"
   ]
  },
  {
   "cell_type": "code",
   "execution_count": null,
   "metadata": {},
   "outputs": [],
   "source": [
    "nstd = 3\n",
    "sma(df['BTC/USDT_Open'], window=20)\n",
    "\n",
    "\n",
    "\n",
    "for coin in coins:\n",
    "    df[f'{coin}_sma'] = sma(df[f'{coin}/USDT_Open'], 20)\n",
    "    df[f'{coin}_upper_band'], df[f'{coin}_lower_band'] = bollinger_band(df[f'{coin}/USDT_Open'], df[f'{coin}_sma'], 20, nstd)\n",
    "    \n",
    "    \n",
    "df.dropna(inplace=True)"
   ]
  },
  {
   "cell_type": "markdown",
   "metadata": {},
   "source": [
    "----\n",
    "## **#5** - **`(CLASSES)`**"
   ]
  },
  {
   "cell_type": "markdown",
   "metadata": {},
   "source": [
    "### **`TradingEnv`** - Virtual trading environment for testing - **`Required`**"
   ]
  },
  {
   "cell_type": "code",
   "execution_count": 8,
   "metadata": {},
   "outputs": [],
   "source": [
    "class TradingEnv:\n",
    "    # Initialize virtual trading account ->\n",
    "    def __init__(self, balance_amount, balance_unit, trading_fee_multiplier):\n",
    "        self.balance_amount = balance_amount                    # Account balance\n",
    "        self.balance_unit = balance_unit                        # Display currency\n",
    "        self.buys = []                                          # Buy history\n",
    "        self.sells = []                                         # Sell history\n",
    "        self.trading_fee_multiplier = trading_fee_multiplier    # Fee multiplier [VIP level 0, paying fees with 'BNB']\n",
    "        \n",
    "        \n",
    "    # Virtual BUY ->\n",
    "    def buy(self, symbol, buy_price, time):\n",
    "        self.balance_amount = (self.balance_amount / buy_price) * self.trading_fee_multiplier   # 1. Sets the balance of the bought asset based on buyprice\n",
    "        self.balance_unit = symbol                                                              # 2. The currency unit of the bougt asset \n",
    "        self.buys.append([symbol, time, buy_price])                                             # 3. Save buy action in a list\n",
    "        \n",
    "    # Virtual SELL >\n",
    "    def sell(self, sell_price, time):\n",
    "        self.balance_amount = self.balance_amount * sell_price * self.trading_fee_multiplier    # 1. Sets the account balance after sell\n",
    "        self.sells.append( [self.balance_unit, time, sell_price] )                              # 2. Save sell action in a list\n",
    "        self.balance_unit = 'USDT'                                                              # 3. Sets the balance unit to 'USDT' for account balance"
   ]
  },
  {
   "cell_type": "markdown",
   "metadata": {},
   "source": [
    "### **`loadData()`** - Holds Volume, Price and Technical Data on demand\n"
   ]
  },
  {
   "cell_type": "code",
   "execution_count": 15,
   "metadata": {},
   "outputs": [],
   "source": [
    "class loadData:\n",
    "    \"\"\" Holds the Volume, Price, and Technical Data for the\n",
    "        chosen indicators in a DataFrame\n",
    "\n",
    "        Args:\n",
    "            client (object): Binance API client\n",
    "            pair (str): e.g 'BTCUSDT'\n",
    "            interval (str): e.g '1m'\n",
    "            start_str (str): Time in milliseconds/1000 .. not done <\n",
    "            end_str (str): optional: end time of datasampling in millisec\n",
    "            indicators (bool, [optional]): returns DataFrame of technicals if True. Defaults to False.\n",
    "    \"\"\"\n",
    "    def __init__(self, client, pair, interval, start_str, end_str, indicators=False):\n",
    "        client = self.client\n",
    "        self.pair = pair\n",
    "        self.start_str = start_str\n",
    "        self.end_str = end_str\n",
    "        self.indicators = indicators if indicators else False\n",
    "        \n",
    "    def priceFrame(self): #pair, interval, start_str, end_str):\n",
    "        \"\"\"Generates a simple DataFrame of the main price data\n",
    "\n",
    "            Args:\n",
    "                pair ([type]): [description]\n",
    "                interval ([type]): [description]\n",
    "                start_str ([type]): [description]\n",
    "                end_str ([type]): [description]\n",
    "        \"\"\"\n",
    "        print(self.pair, self.interval, self.start_str, self.end_str, \"\\n\")\n",
    "        print(self.client.get_symbol_ticker(self.pair))\n",
    "        return None\n",
    "        \n"
   ]
  },
  {
   "cell_type": "markdown",
   "metadata": {},
   "source": [
    "----\n",
    "## **#6 - Backtesting with virtual trading environement**"
   ]
  },
  {
   "cell_type": "code",
   "execution_count": null,
   "metadata": {},
   "outputs": [],
   "source": [
    "showChart()"
   ]
  },
  {
   "cell_type": "markdown",
   "metadata": {},
   "source": [
    "- ### Run strategy - **`Required`**"
   ]
  },
  {
   "cell_type": "code",
   "execution_count": 10,
   "metadata": {},
   "outputs": [],
   "source": [
    "env = TradingEnv(balance_amount=100, balance_unit='USDT', trading_fee_multiplier=0.99925)\n",
    "\n",
    "# The buy/sell conditional\n",
    "for i in range(len(df)):\n",
    "    if env.balance_unit == 'USDT': # --> BUY\n",
    "        for coin in coins:\n",
    "            if df[f'{coin}/USDT_Low'].iloc[i] < df[f'{coin}_lower_band'].iloc[i]: # --> BUY SIGNAL\n",
    "                env.buy(coin, df[f'{coin}_lower_band'].iloc[i], df['OpenTime'].iloc[i])\n",
    "                break\n",
    "\n",
    "    if env.balance_unit != 'USDT': # --> SELL\n",
    "        if df[f'{env.balance_unit}/USDT_High'].iloc[i] > df[f'{env.balance_unit}_upper_band'].iloc[i]: # --> SELL SIGNAL\n",
    "            env.sell(df[f'{env.balance_unit}_upper_band'].iloc[i], df['OpenTime'].iloc[i])\n",
    "\n",
    "if env.balance_unit != 'USDT':\n",
    "    env.sell(df[f'{env.balance_unit}_upper_band'].iloc[-1], df['OpenTime'].iloc[-1])"
   ]
  },
  {
   "cell_type": "code",
   "execution_count": 14,
   "metadata": {},
   "outputs": [
    {
     "name": "stdout",
     "output_type": "stream",
     "text": [
      "num buys: 4 \n",
      "num sells: 4 \n",
      "ending balance: 108.06 USDT\n"
     ]
    }
   ],
   "source": [
    "print(f'num buys: {len(env.buys)}',\n",
    "      f'\\nnum sells: {len(env.sells)}',\n",
    "      f'\\nending balance: {env.balance_amount:.2f} {env.balance_unit}')"
   ]
  },
  {
   "cell_type": "markdown",
   "metadata": {},
   "source": [
    "---"
   ]
  },
  {
   "cell_type": "markdown",
   "metadata": {},
   "source": [
    "----\n",
    "----\n",
    "# Temp Functions >>>"
   ]
  },
  {
   "cell_type": "markdown",
   "metadata": {},
   "source": [
    "## find outliers"
   ]
  },
  {
   "cell_type": "code",
   "execution_count": null,
   "metadata": {},
   "outputs": [],
   "source": [
    "# Find outliers\n",
    "from statistics import stdev\n",
    "\n",
    "stdev = stdev(df['BTC/USDT_High'])\n",
    "\n",
    "for i, val in enumerate(df['BTC/USDT_High']):\n",
    "    lastval = df['BTC/USDT_High'].iloc[i-1]\n",
    "    if abs(val-lastval) > stdev*12:\n",
    "        print(f\"{val} @{i} exceeding stdev\")"
   ]
  },
  {
   "cell_type": "code",
   "execution_count": null,
   "metadata": {},
   "outputs": [],
   "source": [
    "# PROGRESS BAR\n",
    "from time import sleep\n",
    "import sys\n",
    "for i in range(21):\n",
    "    sys.stdout.write('\\r')\n",
    "    # the exact output we're looking for:\n",
    "    sys.stdout.write(\"[%-20s] %d%%\" % ('='*i,5*i))\n",
    "    sys.stdout.flush()\n",
    "    sleep(0.25)"
   ]
  }
 ],
 "metadata": {
  "interpreter": {
   "hash": "2a1904303c90cccb35e16e9c4e7eb88aa52dee32e5565f147738df42e1ed4954"
  },
  "kernelspec": {
   "display_name": "Python 3 (ipykernel)",
   "language": "python",
   "name": "python3"
  },
  "language_info": {
   "codemirror_mode": {
    "name": "ipython",
    "version": 3
   },
   "file_extension": ".py",
   "mimetype": "text/x-python",
   "name": "python",
   "nbconvert_exporter": "python",
   "pygments_lexer": "ipython3",
   "version": "3.9.8"
  }
 },
 "nbformat": 4,
 "nbformat_minor": 4
}
